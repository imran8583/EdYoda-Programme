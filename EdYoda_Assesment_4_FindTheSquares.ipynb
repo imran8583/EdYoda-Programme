{
  "nbformat": 4,
  "nbformat_minor": 0,
  "metadata": {
    "colab": {
      "provenance": [],
      "authorship_tag": "ABX9TyNHIDO4QnuuGIarXk5DGTv3",
      "include_colab_link": true
    },
    "kernelspec": {
      "name": "python3",
      "display_name": "Python 3"
    },
    "language_info": {
      "name": "python"
    }
  },
  "cells": [
    {
      "cell_type": "markdown",
      "metadata": {
        "id": "view-in-github",
        "colab_type": "text"
      },
      "source": [
        "<a href=\"https://colab.research.google.com/github/imran8583/EdYoda-Programme/blob/main/EdYoda_Assesment_4_FindTheSquares.ipynb\" target=\"_parent\"><img src=\"https://colab.research.google.com/assets/colab-badge.svg\" alt=\"Open In Colab\"/></a>"
      ]
    },
    {
      "cell_type": "code",
      "execution_count": null,
      "metadata": {
        "id": "PvmaBuV3l56d"
      },
      "outputs": [],
      "source": [
        "# Find the Squares from the given List:\n",
        "\n",
        "# Write a Python program to square the elements of a list using map() function.\n",
        "# Sample List: [4, 5, 2, 9]\n",
        "\n",
        "# Square the elements of the list:\n",
        "# [16, 25, 4, 81]"
      ]
    },
    {
      "cell_type": "code",
      "source": [
        "# ALGORITHM USING MAP:\n",
        "\n",
        "# STEP 1:\n",
        "        # Map Syntax ---> map(function, iterables)\n",
        "# STEP 2:\n",
        "        # Write a function that will take user input list & convert list values into int \n",
        "# STEP 3: \n",
        "        # Write a function that will return the square of each list items\n",
        "# FINAL STEP:\n",
        "        # Using map, add the function and user input list and enclose in a container and print O/P"
      ],
      "metadata": {
        "id": "p1ci6ktan1cQ"
      },
      "execution_count": null,
      "outputs": []
    },
    {
      "cell_type": "code",
      "source": [],
      "metadata": {
        "id": "uEMuIwBbpE38"
      },
      "execution_count": null,
      "outputs": []
    },
    {
      "cell_type": "code",
      "source": [
        "# Using maps, user input and lambda function:\n",
        "\n",
        "input_list = int_list()\n",
        "\n",
        "output = list(map(lambda x: x**2, input_list))\n",
        "\n",
        "print(output)"
      ],
      "metadata": {
        "colab": {
          "base_uri": "https://localhost:8080/"
        },
        "id": "hqEyfGm-mHS_",
        "outputId": "e24e366e-cf7d-4150-aa54-c62146b954e5"
      },
      "execution_count": 9,
      "outputs": [
        {
          "output_type": "stream",
          "name": "stdout",
          "text": [
            "Enter elements of a list separated by commas: 4,5,2,9,7\n",
            "[16, 25, 4, 81, 49]\n"
          ]
        }
      ]
    },
    {
      "cell_type": "code",
      "source": [],
      "metadata": {
        "id": "U79kwJJCn2Am"
      },
      "execution_count": null,
      "outputs": []
    },
    {
      "cell_type": "code",
      "source": [
        "# With using maps and normal function\n",
        "\n",
        "input_list = [2,4,6,8]\n",
        "\n",
        "def square(n):\n",
        "    return n * n\n",
        "\n",
        "result = list(map(square, input_list))\n",
        "\n",
        "print(result)"
      ],
      "metadata": {
        "colab": {
          "base_uri": "https://localhost:8080/"
        },
        "id": "oOCTHZ8smZZk",
        "outputId": "d984cc6f-2c99-43b9-e986-e1ccbd0e161b"
      },
      "execution_count": 6,
      "outputs": [
        {
          "output_type": "stream",
          "name": "stdout",
          "text": [
            "[4, 16, 36, 64]\n"
          ]
        }
      ]
    },
    {
      "cell_type": "code",
      "source": [],
      "metadata": {
        "id": "Cn1WribEn2mn"
      },
      "execution_count": null,
      "outputs": []
    },
    {
      "cell_type": "code",
      "source": [
        "def int_list():\n",
        "\n",
        "    input_lst = input('Enter elements of a list separated by commas: ')\n",
        "\n",
        "    user_list = input_lst.split(\",\")\n",
        "\n",
        "    z = [ int(i) for i in user_list ]\n",
        "\n",
        "    return z"
      ],
      "metadata": {
        "id": "JemQ6lX0mnLJ"
      },
      "execution_count": 8,
      "outputs": []
    }
  ]
}