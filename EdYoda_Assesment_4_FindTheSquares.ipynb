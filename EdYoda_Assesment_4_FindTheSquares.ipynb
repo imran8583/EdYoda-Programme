{
  "nbformat": 4,
  "nbformat_minor": 0,
  "metadata": {
    "colab": {
      "provenance": [],
      "authorship_tag": "ABX9TyMv80d3ooAR3X+rQ362xJpv",
      "include_colab_link": true
    },
    "kernelspec": {
      "name": "python3",
      "display_name": "Python 3"
    },
    "language_info": {
      "name": "python"
    }
  },
  "cells": [
    {
      "cell_type": "markdown",
      "metadata": {
        "id": "view-in-github",
        "colab_type": "text"
      },
      "source": [
        "<a href=\"https://colab.research.google.com/github/imran8583/EdYoda-Programme/blob/main/EdYoda_Assesment_4_FindTheSquares.ipynb\" target=\"_parent\"><img src=\"https://colab.research.google.com/assets/colab-badge.svg\" alt=\"Open In Colab\"/></a>"
      ]
    },
    {
      "cell_type": "code",
      "execution_count": null,
      "metadata": {
        "id": "PvmaBuV3l56d"
      },
      "outputs": [],
      "source": [
        "# Find the Squares from the given List:\n",
        "\n",
        "# Write a Python program to square the elements of a list using map() function.\n",
        "# Sample List: [4, 5, 2, 9]\n",
        "\n",
        "# Square the elements of the list:\n",
        "# [16, 25, 4, 81]"
      ]
    },
    {
      "cell_type": "code",
      "source": [
        "# ALGORITHM USING MAP:\n",
        "\n",
        "# STEP 1:\n",
        "        # Map Syntax ---> map(function, iterables)\n",
        "# STEP 2: \n",
        "        # Write a function that will return the square of each list items\n",
        "# FINAL STEP:\n",
        "        # Using map, add the function and the input list and enclose in a list"
      ],
      "metadata": {
        "id": "p1ci6ktan1cQ"
      },
      "execution_count": null,
      "outputs": []
    },
    {
      "cell_type": "code",
      "source": [],
      "metadata": {
        "id": "uEMuIwBbpE38"
      },
      "execution_count": null,
      "outputs": []
    },
    {
      "cell_type": "code",
      "source": [
        "# Using maps and lambda function:\n",
        "\n",
        "input_list = [4, 5, 2, 9]\n",
        "\n",
        "output = list(map(lambda x: x**2, input_list))\n",
        "\n",
        "print(output)"
      ],
      "metadata": {
        "colab": {
          "base_uri": "https://localhost:8080/"
        },
        "id": "hqEyfGm-mHS_",
        "outputId": "5b786182-3984-43da-d29b-b5ab7a281137"
      },
      "execution_count": 2,
      "outputs": [
        {
          "output_type": "stream",
          "name": "stdout",
          "text": [
            "[16, 25, 4, 81]\n"
          ]
        }
      ]
    },
    {
      "cell_type": "code",
      "source": [],
      "metadata": {
        "id": "U79kwJJCn2Am"
      },
      "execution_count": null,
      "outputs": []
    },
    {
      "cell_type": "code",
      "source": [
        "# With using maps and normal function\n",
        "\n",
        "input_list = [4, 5, 2, 9]\n",
        "\n",
        "def square(n):\n",
        "    return n * n\n",
        "\n",
        "result = list(map(square, input_list))\n",
        "\n",
        "print(result)"
      ],
      "metadata": {
        "colab": {
          "base_uri": "https://localhost:8080/"
        },
        "id": "oOCTHZ8smZZk",
        "outputId": "2fdb5f18-ed85-4113-f096-70f829a6ed70"
      },
      "execution_count": 3,
      "outputs": [
        {
          "output_type": "stream",
          "name": "stdout",
          "text": [
            "[16, 25, 4, 81]\n"
          ]
        }
      ]
    },
    {
      "cell_type": "code",
      "source": [],
      "metadata": {
        "id": "Cn1WribEn2mn"
      },
      "execution_count": null,
      "outputs": []
    },
    {
      "cell_type": "code",
      "source": [
        "# Using list comprehension:\n",
        "\n",
        "lc = [ i ** 2 for i in input_list ]\n",
        "\n",
        "print(lc)"
      ],
      "metadata": {
        "colab": {
          "base_uri": "https://localhost:8080/"
        },
        "id": "JemQ6lX0mnLJ",
        "outputId": "30ff12e4-5611-4101-f64c-474a4fb6769f"
      },
      "execution_count": 4,
      "outputs": [
        {
          "output_type": "stream",
          "name": "stdout",
          "text": [
            "[16, 25, 4, 81]\n"
          ]
        }
      ]
    }
  ]
}