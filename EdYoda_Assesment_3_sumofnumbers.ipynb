{
  "nbformat": 4,
  "nbformat_minor": 0,
  "metadata": {
    "colab": {
      "provenance": [],
      "authorship_tag": "ABX9TyOae8VI1xBcW6rv4U1EwQft"
    },
    "kernelspec": {
      "name": "python3",
      "display_name": "Python 3"
    },
    "language_info": {
      "name": "python"
    }
  },
  "cells": [
    {
      "cell_type": "code",
      "execution_count": 11,
      "metadata": {
        "id": "CfQ669PNipkK"
      },
      "outputs": [],
      "source": [
        "#  Write a Python function to sum all the numbers in a list.\n",
        "\n",
        "# ALGORITHM:\n",
        "# STEP 1:\n",
        "        # Create a function to take input list from user & convert list values into intergers.\n",
        "# STEP 2: \n",
        "        # Create a main function and pass user list as parameters\n",
        "# STEP 3:\n",
        "        # Initialize total as 0 and Iterate through the user list and add values to the total varaible.\n",
        "# FINAL STEP:\n",
        "        # Print the final sum values of total as result."
      ]
    },
    {
      "cell_type": "code",
      "source": [],
      "metadata": {
        "id": "MshnDCl6kTgg"
      },
      "execution_count": 10,
      "outputs": []
    },
    {
      "cell_type": "code",
      "source": [
        "# using for loop and with arguments\n",
        "def sum_val(values):\n",
        "    total = 0\n",
        "    for value in values:\n",
        "        total += value\n",
        "    return f\"Sum of all the elements in given list is {total}.\"\n",
        "\n",
        "values = num_list()\n",
        "print(sum_val(values))"
      ],
      "metadata": {
        "colab": {
          "base_uri": "https://localhost:8080/"
        },
        "id": "81-mgnBRkY-P",
        "outputId": "506b3994-1cd6-44be-ff84-fdb1fc1b3cdc"
      },
      "execution_count": 14,
      "outputs": [
        {
          "output_type": "stream",
          "name": "stdout",
          "text": [
            "Enter elements of a list separated by commas: 8, 2, 3, 0, 7\n",
            "Sum of all the elements in given list is 20.\n"
          ]
        }
      ]
    },
    {
      "cell_type": "code",
      "source": [
        "# function to take input list from user & convert list values into intergers.\n",
        "def num_list():\n",
        "    input_lst = input('Enter elements of a list separated by commas: ')\n",
        "    user_list = input_lst.split(\",\")\n",
        "    k = []\n",
        "    for i in user_list:\n",
        "        k.append(int(i))\n",
        "    return k"
      ],
      "metadata": {
        "id": "nKPQKTBYjVLC"
      },
      "execution_count": 3,
      "outputs": []
    },
    {
      "cell_type": "code",
      "source": [],
      "metadata": {
        "id": "9QHO5X-fm-hV"
      },
      "execution_count": null,
      "outputs": []
    },
    {
      "cell_type": "code",
      "source": [
        "# Using while loop and without arguments\n",
        "\n",
        "list_vals = num_list()\n",
        "\n",
        "def sum_list():\n",
        "    total = 0\n",
        "    index_val = 0\n",
        "    while len(list_vals) > index_val:\n",
        "        total += list_vals[index_val]\n",
        "        index_val += 1\n",
        "    return f\"Sum of all the elements in given list is {total}.\"\n",
        "\n",
        "sum_list()"
      ],
      "metadata": {
        "colab": {
          "base_uri": "https://localhost:8080/",
          "height": 54
        },
        "id": "VOvx8WaZjNN6",
        "outputId": "4eea1034-6969-4f34-9083-7a8b8aedcccd"
      },
      "execution_count": 13,
      "outputs": [
        {
          "name": "stdout",
          "output_type": "stream",
          "text": [
            "Enter elements of a list separated by commas: 8, 2, 3, 0, 7\n"
          ]
        },
        {
          "output_type": "execute_result",
          "data": {
            "text/plain": [
              "'Sum of all the elements in given list is 20.'"
            ],
            "application/vnd.google.colaboratory.intrinsic+json": {
              "type": "string"
            }
          },
          "metadata": {},
          "execution_count": 13
        }
      ]
    }
  ]
}