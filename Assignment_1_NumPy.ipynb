{
  "nbformat": 4,
  "nbformat_minor": 0,
  "metadata": {
    "colab": {
      "provenance": [],
      "authorship_tag": "ABX9TyPFkazhdBe09LKonNxkG2wH"
    },
    "kernelspec": {
      "name": "python3",
      "display_name": "Python 3"
    },
    "language_info": {
      "name": "python"
    }
  },
  "cells": [
    {
      "cell_type": "code",
      "execution_count": 2,
      "metadata": {
        "id": "FTbZSLg4Re3Z"
      },
      "outputs": [],
      "source": [
        "import numpy as np\n",
        "import pandas as pd"
      ]
    },
    {
      "cell_type": "code",
      "source": [
        "# 1. Create a null vector of size 10 but the fifth value which is 1.\n",
        "\n",
        "# Method 1:\n",
        "null_vector1 = np.array([np.nan,np.nan,np.nan,np.nan,1,np.nan,np.nan,np.nan,np.nan,np.nan])\n",
        "print(null_vector1)\n",
        "\n",
        "print('-'*40)\n",
        "\n",
        "# Method 2:\n",
        "null_vector2 = np.zeros(10, dtype=int)\n",
        "null_vector2[4] = 1\n",
        "null_vector2"
      ],
      "metadata": {
        "id": "9gtzlYU9SnmE",
        "colab": {
          "base_uri": "https://localhost:8080/"
        },
        "outputId": "726405a7-025c-4774-ea54-03f962ef2dc1"
      },
      "execution_count": 20,
      "outputs": [
        {
          "output_type": "stream",
          "name": "stdout",
          "text": [
            "[nan nan nan nan  1. nan nan nan nan nan]\n",
            "----------------------------------------\n"
          ]
        },
        {
          "output_type": "execute_result",
          "data": {
            "text/plain": [
              "array([0, 0, 0, 0, 1, 0, 0, 0, 0, 0])"
            ]
          },
          "metadata": {},
          "execution_count": 20
        }
      ]
    },
    {
      "cell_type": "code",
      "source": [
        "# 2. Create a vector with values ranging from 10 to 49.\n",
        "\n",
        "vectr = np.arange(10,50)\n",
        "vectr\n"
      ],
      "metadata": {
        "colab": {
          "base_uri": "https://localhost:8080/"
        },
        "id": "uQlrVvfJS3_9",
        "outputId": "bd98022d-8811-47ab-8328-deff4a9cae2b"
      },
      "execution_count": null,
      "outputs": [
        {
          "output_type": "execute_result",
          "data": {
            "text/plain": [
              "array([10, 11, 12, 13, 14, 15, 16, 17, 18, 19, 20, 21, 22, 23, 24, 25, 26,\n",
              "       27, 28, 29, 30, 31, 32, 33, 34, 35, 36, 37, 38, 39, 40, 41, 42, 43,\n",
              "       44, 45, 46, 47, 48, 49])"
            ]
          },
          "metadata": {},
          "execution_count": 4
        }
      ]
    },
    {
      "cell_type": "code",
      "source": [
        "# 3. Create a 3x3 matrix with values ranging from 0 to 8\n",
        "matrix_vals = np.arange(9).reshape(3,3)\n",
        "\n",
        "matrix_vals"
      ],
      "metadata": {
        "colab": {
          "base_uri": "https://localhost:8080/"
        },
        "id": "9ZqXicQfxKkz",
        "outputId": "5c908a43-d308-4d34-8642-92e6f618621c"
      },
      "execution_count": 23,
      "outputs": [
        {
          "output_type": "execute_result",
          "data": {
            "text/plain": [
              "array([[0, 1, 2],\n",
              "       [3, 4, 5],\n",
              "       [6, 7, 8]])"
            ]
          },
          "metadata": {},
          "execution_count": 23
        }
      ]
    },
    {
      "cell_type": "code",
      "source": [
        "# 4. Find indices of non-zero elements from [1,2,0,0,4,0]\n",
        "\n",
        "input_arr = np.array([1,2,0,0,4,0])\n",
        "np.nonzero(input_arr)"
      ],
      "metadata": {
        "colab": {
          "base_uri": "https://localhost:8080/"
        },
        "id": "NSAM2JHOzHaE",
        "outputId": "3a3a712a-d8a3-41c6-9c5d-a0a6c29f3291"
      },
      "execution_count": 12,
      "outputs": [
        {
          "output_type": "execute_result",
          "data": {
            "text/plain": [
              "(array([0, 1, 4]),)"
            ]
          },
          "metadata": {},
          "execution_count": 12
        }
      ]
    },
    {
      "cell_type": "code",
      "source": [
        "# 5. Create a 10x10 array with random values and find the minimum and maximum values.\n",
        "arr = np.random.rand(10,10)\n",
        "print(arr)\n",
        "print(arr.max())\n",
        "print(arr.min())"
      ],
      "metadata": {
        "colab": {
          "base_uri": "https://localhost:8080/"
        },
        "id": "JXCkLgxJz0fZ",
        "outputId": "95fcf778-e314-48cb-a5c6-a73d702c3164"
      },
      "execution_count": 16,
      "outputs": [
        {
          "output_type": "stream",
          "name": "stdout",
          "text": [
            "[[0.3126346  0.97175089 0.11189055 0.3310344  0.93378649 0.1635213\n",
            "  0.87271022 0.02586406 0.61848205 0.46440012]\n",
            " [0.19465922 0.99149584 0.33636158 0.44162623 0.09090207 0.68327415\n",
            "  0.54722815 0.12066123 0.36272299 0.15928558]\n",
            " [0.37357245 0.74731199 0.7726118  0.69022119 0.76655978 0.81976152\n",
            "  0.95844654 0.346192   0.78136388 0.89158949]\n",
            " [0.17255539 0.65886952 0.4098469  0.97042003 0.50390432 0.32966662\n",
            "  0.52123267 0.67300099 0.71486796 0.92531016]\n",
            " [0.93935528 0.85489351 0.52855764 0.35759419 0.69884274 0.09149073\n",
            "  0.40278345 0.8969854  0.61798174 0.46770771]\n",
            " [0.26939097 0.3001735  0.39299659 0.20544676 0.39118319 0.05974187\n",
            "  0.2429749  0.28423479 0.85020182 0.50776894]\n",
            " [0.80621894 0.47766877 0.32598416 0.52587363 0.02756893 0.82283537\n",
            "  0.76461629 0.14125177 0.82102249 0.54899528]\n",
            " [0.13998827 0.3070448  0.21622828 0.3753072  0.75751578 0.03941652\n",
            "  0.60663228 0.70341193 0.6332626  0.54644035]\n",
            " [0.76417649 0.37526861 0.88158997 0.18232696 0.58034575 0.928641\n",
            "  0.97115646 0.14811423 0.447377   0.59287988]\n",
            " [0.6094194  0.48624456 0.8483143  0.18119381 0.1277992  0.66782343\n",
            "  0.38757692 0.12309512 0.2499724  0.29945501]]\n",
            "0.9914958381611735\n",
            "0.02586406461409385\n"
          ]
        }
      ]
    },
    {
      "cell_type": "code",
      "source": [
        "# 6. Create a random vector of size 30 and find the mean value.\n",
        "\n",
        "arr2 = np.random.rand(30)\n",
        "\n",
        "print(arr2)\n",
        "print(arr2.mean())"
      ],
      "metadata": {
        "colab": {
          "base_uri": "https://localhost:8080/"
        },
        "id": "rTgst7Ty1Guq",
        "outputId": "bd3312a7-53e2-47ea-a53b-283cfd805bf8"
      },
      "execution_count": 17,
      "outputs": [
        {
          "output_type": "stream",
          "name": "stdout",
          "text": [
            "[0.50546408 0.3054881  0.45407968 0.54315254 0.28003638 0.88455678\n",
            " 0.3803553  0.39479698 0.08164832 0.85937653 0.91146411 0.52458948\n",
            " 0.16508846 0.0884375  0.52687423 0.25340534 0.73414111 0.91364806\n",
            " 0.56028348 0.75092823 0.95716231 0.48223222 0.21371468 0.2174967\n",
            " 0.63983821 0.55012007 0.7145337  0.57122318 0.60728659 0.34546779]\n",
            "0.5138963383329457\n"
          ]
        }
      ]
    }
  ]
}