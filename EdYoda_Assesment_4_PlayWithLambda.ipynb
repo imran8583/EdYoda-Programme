{
  "nbformat": 4,
  "nbformat_minor": 0,
  "metadata": {
    "colab": {
      "provenance": [],
      "authorship_tag": "ABX9TyPObfHILMQ1HdMY2ZBz+s3D",
      "include_colab_link": true
    },
    "kernelspec": {
      "name": "python3",
      "display_name": "Python 3"
    },
    "language_info": {
      "name": "python"
    }
  },
  "cells": [
    {
      "cell_type": "markdown",
      "metadata": {
        "id": "view-in-github",
        "colab_type": "text"
      },
      "source": [
        "<a href=\"https://colab.research.google.com/github/imran8583/EdYoda-Programme/blob/main/EdYoda_Assesment_4_PlayWithLambda.ipynb\" target=\"_parent\"><img src=\"https://colab.research.google.com/assets/colab-badge.svg\" alt=\"Open In Colab\"/></a>"
      ]
    },
    {
      "cell_type": "code",
      "execution_count": null,
      "metadata": {
        "id": "Z73h2Oc3L7Cd"
      },
      "outputs": [],
      "source": [
        "# Play with Lambda\n",
        "\n",
        "# Write a Python program to create a lambda function that adds 25 to a given\n",
        "# number passed in as an argument.\n",
        "\n",
        "# Syntax:\n",
        "# lambda arguments : expression\n"
      ]
    },
    {
      "cell_type": "code",
      "source": [
        "# ALGORITHM USING LAMBDA:\n",
        "# STEP 1:\n",
        "        # Lamba Syntax ---> lambda arguments : expression\n",
        "# STEP 2: \n",
        "        # We have to give one integer argument to add 25 to it and assign function to a variable\n",
        "# FINAL STEP:\n",
        "        # call the variable funtion and pass an argument for result."
      ],
      "metadata": {
        "id": "WkNU8LeceDXF"
      },
      "execution_count": null,
      "outputs": []
    },
    {
      "cell_type": "code",
      "source": [],
      "metadata": {
        "id": "sFqNX_6XNBz5"
      },
      "execution_count": null,
      "outputs": []
    },
    {
      "cell_type": "code",
      "source": [
        "# Main Problem:\n",
        "\n",
        "val = lambda x: int(x) + 25\n"
      ],
      "metadata": {
        "id": "BRQjpxdqfrC8"
      },
      "execution_count": null,
      "outputs": []
    },
    {
      "cell_type": "code",
      "source": [
        "\n"
      ],
      "metadata": {
        "id": "S2AYPQt_NTX4"
      },
      "execution_count": null,
      "outputs": []
    },
    {
      "cell_type": "code",
      "source": [
        "# Test Case 1:\n",
        "\n",
        "val(10)\n"
      ],
      "metadata": {
        "colab": {
          "base_uri": "https://localhost:8080/"
        },
        "id": "0KVSrv3ZMSCb",
        "outputId": "8aa2e0e7-2516-4b37-a6cb-a5bfbb5c6b99"
      },
      "execution_count": null,
      "outputs": [
        {
          "output_type": "execute_result",
          "data": {
            "text/plain": [
              "35"
            ]
          },
          "metadata": {},
          "execution_count": 11
        }
      ]
    },
    {
      "cell_type": "code",
      "source": [
        "# Test Case 2:\n",
        "\n",
        "val(\"10\")"
      ],
      "metadata": {
        "colab": {
          "base_uri": "https://localhost:8080/"
        },
        "id": "ZO8mTX8Zffhu",
        "outputId": "3d6b89f6-79dd-4f6f-8220-17bf25152a57"
      },
      "execution_count": null,
      "outputs": [
        {
          "output_type": "execute_result",
          "data": {
            "text/plain": [
              "35"
            ]
          },
          "metadata": {},
          "execution_count": 12
        }
      ]
    },
    {
      "cell_type": "code",
      "source": [],
      "metadata": {
        "id": "ERrD0Dh2Njfk"
      },
      "execution_count": null,
      "outputs": []
    }
  ]
}