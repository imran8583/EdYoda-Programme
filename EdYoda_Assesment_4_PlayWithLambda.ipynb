{
  "nbformat": 4,
  "nbformat_minor": 0,
  "metadata": {
    "colab": {
      "provenance": [],
      "authorship_tag": "ABX9TyM4pyQcAljEuaRGyumlsRij",
      "include_colab_link": true
    },
    "kernelspec": {
      "name": "python3",
      "display_name": "Python 3"
    },
    "language_info": {
      "name": "python"
    }
  },
  "cells": [
    {
      "cell_type": "markdown",
      "metadata": {
        "id": "view-in-github",
        "colab_type": "text"
      },
      "source": [
        "<a href=\"https://colab.research.google.com/github/imran8583/EdYoda-Programme/blob/main/EdYoda_Assesment_4_PlayWithLambda.ipynb\" target=\"_parent\"><img src=\"https://colab.research.google.com/assets/colab-badge.svg\" alt=\"Open In Colab\"/></a>"
      ]
    },
    {
      "cell_type": "code",
      "execution_count": null,
      "metadata": {
        "id": "Z73h2Oc3L7Cd"
      },
      "outputs": [],
      "source": [
        "# Play with Lambda\n",
        "\n",
        "# Write a Python program to create a lambda function that adds 25 to a given\n",
        "# number passed in as an argument.\n",
        "\n",
        "# Syntax:\n",
        "# lambda arguments : expression\n"
      ]
    },
    {
      "cell_type": "code",
      "source": [
        "# ALGORITHM USING LAMBDA:\n",
        "# STEP 1:\n",
        "        # Lamba Syntax ---> lambda arguments : expression\n",
        "# STEP 2: \n",
        "        # We have to take a value from user and assign the value to a variable\n",
        "# STEP 3:\n",
        "        # Use lambada function and store in variable \n",
        "# FINAL STEP:\n",
        "        # Pass the user input as lambda argument and print the result"
      ],
      "metadata": {
        "id": "WkNU8LeceDXF"
      },
      "execution_count": 4,
      "outputs": []
    },
    {
      "cell_type": "code",
      "source": [],
      "metadata": {
        "id": "sFqNX_6XNBz5"
      },
      "execution_count": null,
      "outputs": []
    },
    {
      "cell_type": "code",
      "source": [
        "# Type: 1\n",
        "\n",
        "val = lambda x: x + 25\n",
        "input_val = int(input(\"What is your value: \"))\n",
        "\n",
        "print(val(input_val))"
      ],
      "metadata": {
        "id": "BRQjpxdqfrC8",
        "colab": {
          "base_uri": "https://localhost:8080/"
        },
        "outputId": "40cdd66c-e41a-4f3e-f262-c10c9345b5bd"
      },
      "execution_count": 9,
      "outputs": [
        {
          "output_type": "stream",
          "name": "stdout",
          "text": [
            "What is your value: 10\n",
            "35\n"
          ]
        }
      ]
    },
    {
      "cell_type": "code",
      "source": [
        "\n"
      ],
      "metadata": {
        "id": "S2AYPQt_NTX4"
      },
      "execution_count": null,
      "outputs": []
    },
    {
      "cell_type": "code",
      "source": [
        "# Type: 2\n",
        "\n",
        "number_add = lambda x: int(x) + 45\n",
        "\n",
        "print(number_add(10))"
      ],
      "metadata": {
        "colab": {
          "base_uri": "https://localhost:8080/"
        },
        "id": "4CvkRITm2Wn-",
        "outputId": "ea0686a3-175d-4c91-b3b7-7ec3c64c3f7b"
      },
      "execution_count": 8,
      "outputs": [
        {
          "output_type": "stream",
          "name": "stdout",
          "text": [
            "55\n"
          ]
        }
      ]
    }
  ]
}