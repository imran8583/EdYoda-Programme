{
  "nbformat": 4,
  "nbformat_minor": 0,
  "metadata": {
    "colab": {
      "provenance": [],
      "authorship_tag": "ABX9TyNcjlv41rNiSA5bNwSrCTHv",
      "include_colab_link": true
    },
    "kernelspec": {
      "name": "python3",
      "display_name": "Python 3"
    },
    "language_info": {
      "name": "python"
    }
  },
  "cells": [
    {
      "cell_type": "markdown",
      "metadata": {
        "id": "view-in-github",
        "colab_type": "text"
      },
      "source": [
        "<a href=\"https://colab.research.google.com/github/imran8583/EdYoda-Programme/blob/main/EdYoda_Assesment_5_OOPs.ipynb\" target=\"_parent\"><img src=\"https://colab.research.google.com/assets/colab-badge.svg\" alt=\"Open In Colab\"/></a>"
      ]
    },
    {
      "cell_type": "code",
      "execution_count": null,
      "metadata": {
        "id": "ZwRqGcjcwHNt"
      },
      "outputs": [],
      "source": [
        "# ASSESMENT 5"
      ]
    },
    {
      "cell_type": "markdown",
      "source": [
        "# **Challenge 1: Square Numbers and Return Their Sum**"
      ],
      "metadata": {
        "id": "53CxVVsKwRZM"
      }
    },
    {
      "cell_type": "markdown",
      "source": [
        "### Problem statement:\n",
        "*Implement a class Point that has three properties and a method. All these attributes (properties and methods) should be public.* "
      ],
      "metadata": {
        "id": "10Rfl-n322kL"
      }
    },
    {
      "cell_type": "code",
      "source": [
        "class Point:\n",
        "\n",
        "    # Task 1: Implement a constructor\n",
        "    def __init__(self,a,b,c):\n",
        "        self.a = a\n",
        "        self.b = b\n",
        "        self.c = c\n",
        "\n",
        "    # Task 2: Method which squares a, b, and c and returns their sum.\n",
        "    def sqSum(self):\n",
        "        x, y, z = self.a, self.b, self.c\n",
        "\n",
        "        a = x * x\n",
        "        b = y * y\n",
        "        c = z * z\n",
        "        sum_total = f\"The sum of square of given numbers is: {a + b + c}\"\n",
        "        return sum_total\n",
        "\n",
        "test1 = Point(1,3,5)\n",
        "test2 = Point(1.1,3.1,5.1)\n",
        "test3 = Point(6,3,5)\n",
        "\n",
        "\n",
        "print(test1.sqSum())\n",
        "print(test2.sqSum())\n",
        "print(test3.sqSum())"
      ],
      "metadata": {
        "colab": {
          "base_uri": "https://localhost:8080/"
        },
        "id": "YdfbPYQ0wT3o",
        "outputId": "e376d729-ee5f-47ed-d761-3711d65b2625"
      },
      "execution_count": null,
      "outputs": [
        {
          "output_type": "stream",
          "name": "stdout",
          "text": [
            "The sum of square of given numbers is: 35\n",
            "The sum of square of given numbers is: 36.83\n",
            "The sum of square of given numbers is: 70\n"
          ]
        }
      ]
    },
    {
      "cell_type": "markdown",
      "source": [
        "# **Challenge 2: Implement a Calculator Class**"
      ],
      "metadata": {
        "id": "PsZ0vjA28ld3"
      }
    },
    {
      "cell_type": "markdown",
      "source": [
        "### Problem statement:\n",
        "*Write a Python class called Calculator that perform addition, subtraction, multiplication, and division.*"
      ],
      "metadata": {
        "id": "mjAW0k_n86AP"
      }
    },
    {
      "cell_type": "code",
      "source": [
        "class Calculator:\n",
        "\n",
        "    # Task 1: Implement an initializer\n",
        "    def __init__(self, num1, num2):\n",
        "        self.num1 = num1\n",
        "        self.num2 = num2\n",
        "\n",
        "    # Task 2: Implement menthods\n",
        "    def add(self):\n",
        "        return self.num2 + self.num1\n",
        "\n",
        "    def subtract(self):\n",
        "        return self.num2 - self.num1\n",
        "\n",
        "    def multiply(self):\n",
        "        return self.num2 * self.num1\n",
        "\n",
        "    def divide(self):\n",
        "        return self.num2 / self.num1\n",
        "\n",
        "test1 = Calculator(10,94)\n",
        "\n",
        "print(test1.add())\n",
        "print(test1.subtract())\n",
        "print(test1.multiply())\n",
        "print(test1.divide())\n",
        "\n",
        "print(\"-------\")\n",
        "\n",
        "test2 = Calculator(6,33)\n",
        "\n",
        "print(test2.add())\n",
        "print(test2.subtract())\n",
        "print(test2.multiply())\n",
        "print(test2.divide())"
      ],
      "metadata": {
        "id": "YHjHKgUT9BXq",
        "colab": {
          "base_uri": "https://localhost:8080/"
        },
        "outputId": "32b68527-7474-48cd-d7f3-97d729658a05"
      },
      "execution_count": null,
      "outputs": [
        {
          "output_type": "stream",
          "name": "stdout",
          "text": [
            "104\n",
            "84\n",
            "940\n",
            "9.4\n",
            "-------\n",
            "39\n",
            "27\n",
            "198\n",
            "5.5\n"
          ]
        }
      ]
    },
    {
      "cell_type": "markdown",
      "source": [
        "# **Challenge 3: Implement the Complete Student Class**"
      ],
      "metadata": {
        "id": "cEB9QuxAOe3U"
      }
    },
    {
      "cell_type": "markdown",
      "source": [
        "### Problem statement:\n",
        "*Implement the complete Student class & implement properties as private*"
      ],
      "metadata": {
        "id": "5gh8Vle8OxW3"
      }
    },
    {
      "cell_type": "code",
      "source": [
        "class Student:\n",
        "\n",
        "    # Task: Implement name and rollno as private properties.\n",
        "    # Task: Implement get and set methods\n",
        "    # Task: Implement this class according to the rules of encapsulation.\n",
        "    \n",
        "    def setName(self, name):\n",
        "        self.__name = name\n",
        "\n",
        "    def getName(self):\n",
        "        return self.__name\n",
        "\n",
        "    def setRollNumber(self, rollno):\n",
        "        self.__rollno = rollno\n",
        "\n",
        "    def getRollNumber(self):\n",
        "        return self.__rollno\n",
        "\n",
        "# student1\n",
        "student1 = Student()\n",
        "\n",
        "student1.setName(\"Imran Abdul\")\n",
        "student1.setRollNumber(111)\n",
        "\n",
        "print(student1.getName())\n",
        "print(student1.getRollNumber())\n",
        "\n",
        "print(\"----------\")\n",
        "\n",
        "# student2\n",
        "student2 = Student()\n",
        "\n",
        "student2.setName(\"Abdul Kalam\")\n",
        "student2.setRollNumber(1234)\n",
        "\n",
        "print(student2.getName())\n",
        "print(student2.getRollNumber())\n"
      ],
      "metadata": {
        "id": "bi2vsEveO1FG",
        "colab": {
          "base_uri": "https://localhost:8080/"
        },
        "outputId": "9fdb9237-0b00-47b4-aa48-1401820e6eca"
      },
      "execution_count": null,
      "outputs": [
        {
          "output_type": "stream",
          "name": "stdout",
          "text": [
            "Imran Abdul\n",
            "111\n",
            "----------\n",
            "Abdul Kalam\n",
            "1234\n"
          ]
        }
      ]
    },
    {
      "cell_type": "markdown",
      "source": [
        "# **Challenge 4: Implement a Banking Account**"
      ],
      "metadata": {
        "id": "TBWqxDnsQUa-"
      }
    },
    {
      "cell_type": "markdown",
      "source": [
        "### Problem statement:\n",
        "*Implement the basic structure of a parent class, Account, and a child class, SavingsAccount*"
      ],
      "metadata": {
        "id": "VS8X9IKeQaEM"
      }
    },
    {
      "cell_type": "code",
      "source": [
        "class Account:\n",
        "\n",
        "    # Task 1: Properties set to None or 0\n",
        "    # Task 2: Order is title first then balance second\n",
        "    def __init__(self, title=None, balance=0):\n",
        "        self.title = title\n",
        "        self.balance = balance\n",
        "\n",
        "class SavingsAccount(Account):\n",
        "\n",
        "    # Task 1: Properties set to None or 0\n",
        "    # Task 3: child class using the initializer of parent class & order is title,balance,IR.\n",
        "    def __init__(self, title=None, balance=0, interestRate=0):\n",
        "            super().__init__(title, balance)\n",
        "            self.interestRate = interestRate\n",
        "\n",
        "owner1 = Account(\"Ashish\", 6000)\n",
        "print(f\"Name is {owner1.title} & Balance is {owner1.balance}\")\n",
        "\n",
        "owner2 = SavingsAccount(\"Ashish\", 5000, 5)\n",
        "print(f\"Name is {owner2.title}, Balance is {owner2.balance}, & Interest rate is {owner2.interestRate} \")"
      ],
      "metadata": {
        "id": "x-UWbwQ_Qecl",
        "colab": {
          "base_uri": "https://localhost:8080/"
        },
        "outputId": "4982ce49-13fd-4952-9139-ef71659f8060"
      },
      "execution_count": null,
      "outputs": [
        {
          "output_type": "stream",
          "name": "stdout",
          "text": [
            "Name is Ashish & Balance is 6000\n",
            "Name is Ashish, Balance is 5000, & Interest rate is 5 \n"
          ]
        }
      ]
    },
    {
      "cell_type": "markdown",
      "source": [
        "# **Challenge 5: Handling a Bank Account**"
      ],
      "metadata": {
        "id": "-6GbNKKVQ1uh"
      }
    },
    {
      "cell_type": "markdown",
      "source": [
        "### Problem statement:\n",
        "*In this challenge, we will be extending the previous challenge and implementing methods in the parent class and its corresponding child class. The initializers for both classes have been defined for you.*"
      ],
      "metadata": {
        "id": "_DUPIAxDQ15f"
      }
    },
    {
      "cell_type": "code",
      "source": [
        "class Account:\n",
        "    def __init__(self, title=None, balance=0):\n",
        "        self.title = title\n",
        "        self.balance = balance\n",
        "\n",
        "    # Task 3: A method that subtracts amount to the balance.\n",
        "    def withdrawal(self, amount):\n",
        "        print(f\"Balance before withdrawal {self.balance}\")\n",
        "        self.amount = amount\n",
        "        self.balance -= self.amount\n",
        "        print(f\"Balance after withdrawal {self.balance}\")\n",
        "\n",
        "\n",
        "    # Task 2: A method that adds amount to the balance.\n",
        "    def deposit(self, amount):\n",
        "        print(f\"Balance before deposit {self.balance}\")\n",
        "        self.amount = amount\n",
        "        self.balance += self.amount \n",
        "        print(f\"Balance after deposit {self.balance}\")\n",
        "\n",
        "\n",
        "    # Task 1: A method that returns balance\n",
        "    def getBalance(self):\n",
        "        return f\"Current balance is: {self.balance}\"\n",
        "\n",
        "\n",
        "class SavingsAccount(Account):\n",
        "\n",
        "    def __init__(self, title=None, balance=0, interestRate=0):\n",
        "            super().__init__(title, balance)\n",
        "            self.interestRate = interestRate\n",
        "\n",
        "    # Task 4: A method that returns the interest amount of the current balance.\n",
        "    def interestAmount(self):\n",
        "        interest_amount = (self.interestRate * self.balance) / 100\n",
        "        return f\"Interest amount is {interest_amount}\"\n",
        "\n",
        "#code to test - do not edit this\n",
        "\n",
        "demo1 = SavingsAccount(\"Ashish\", 2500, 5)   # initializing a SavingsAccount object\n",
        "demo2 = SavingsAccount(\"Imran Abdul\", 8000, 6.3) # added another object\n",
        "\n"
      ],
      "metadata": {
        "id": "qQb07FleQ_4G"
      },
      "execution_count": 28,
      "outputs": []
    },
    {
      "cell_type": "code",
      "source": [
        "# Task 2\n",
        "\n",
        "demo1.balance = 2000\n",
        "demo1.deposit(500)\n",
        "print(demo1.getBalance())\n",
        "\n",
        "print(\"--------------------------\")\n",
        "\n",
        "# demo2.balance = 2000\n",
        "demo2.deposit(1000)\n",
        "print(demo2.getBalance())\n"
      ],
      "metadata": {
        "colab": {
          "base_uri": "https://localhost:8080/"
        },
        "id": "uIOxANZbigzb",
        "outputId": "734a82ee-3803-492e-a7c6-a913766bfea6"
      },
      "execution_count": 30,
      "outputs": [
        {
          "output_type": "stream",
          "name": "stdout",
          "text": [
            "Balance before deposit 2000\n",
            "Balance after deposit 2500\n",
            "Current balance is: 2500\n",
            "--------------------------\n",
            "Balance before deposit 8000\n",
            "Balance after deposit 9000\n",
            "Current balance is: 9000\n"
          ]
        }
      ]
    },
    {
      "cell_type": "code",
      "source": [
        "# Task 3\n",
        "\n",
        "demo1.balance = 2000\n",
        "demo1.withdrawal(500)\n",
        "print(demo1.getBalance())\n",
        "\n",
        "print(\"--------------------------\")\n",
        "\n",
        "# demo2.balance = 2000\n",
        "demo2.withdrawal(1500)\n",
        "print(demo2.getBalance())\n"
      ],
      "metadata": {
        "colab": {
          "base_uri": "https://localhost:8080/"
        },
        "id": "Tl_RDqnKjVIh",
        "outputId": "cce08c2d-5820-4334-999e-82fa6d2a3b54"
      },
      "execution_count": 31,
      "outputs": [
        {
          "output_type": "stream",
          "name": "stdout",
          "text": [
            "Balance before withdrawal 2000\n",
            "Balance after withdrawal 1500\n",
            "Current balance is: 1500\n",
            "--------------------------\n",
            "Balance before withdrawal 9000\n",
            "Balance after withdrawal 7500\n",
            "Current balance is: 7500\n"
          ]
        }
      ]
    },
    {
      "cell_type": "code",
      "source": [
        "# Task 4\n",
        "\n",
        "demo1.balance = 2000\n",
        "demo1.interestRate = 5\n",
        "print(demo1.interestAmount())\n",
        "\n",
        "print(\"--------------------------\")\n",
        "\n",
        "# demo2.balance = 2000\n",
        "demo2.interestRate = 8\n",
        "print(demo2.interestAmount())"
      ],
      "metadata": {
        "colab": {
          "base_uri": "https://localhost:8080/"
        },
        "id": "83ATgmmbj_CF",
        "outputId": "49d06682-29d8-48c4-d352-d0604d4c051e"
      },
      "execution_count": 32,
      "outputs": [
        {
          "output_type": "stream",
          "name": "stdout",
          "text": [
            "Interest amount is 100.0\n",
            "--------------------------\n",
            "Interest amount is 600.0\n"
          ]
        }
      ]
    }
  ]
}