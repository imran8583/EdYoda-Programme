{
  "nbformat": 4,
  "nbformat_minor": 0,
  "metadata": {
    "colab": {
      "provenance": [],
      "authorship_tag": "ABX9TyPTk5IXoCG2z0lWk2MOSZ4U"
    },
    "kernelspec": {
      "name": "python3",
      "display_name": "Python 3"
    },
    "language_info": {
      "name": "python"
    }
  },
  "cells": [
    {
      "cell_type": "code",
      "execution_count": null,
      "metadata": {
        "id": "nx3gH3u1umSS"
      },
      "outputs": [],
      "source": [
        "# Write a Python function that accepts a string and calculate\n",
        "# the number of upper case letters and lower case letters.\n",
        "# Sample String : 'The quick Brow Fox'"
      ]
    },
    {
      "cell_type": "code",
      "source": [],
      "metadata": {
        "id": "jjyc6-1SxqKY"
      },
      "execution_count": null,
      "outputs": []
    },
    {
      "cell_type": "code",
      "source": [
        "# ALGORITHM:\n",
        "# STEP 1:\n",
        "        # Take user inputs from user to calculate upper and lower case values\n",
        "# STEP 2: \n",
        "        # create a function and create two empty string variables.\n",
        "# FINAL 3:\n",
        "        # Iterate over the user input and check for only upper and lower case values using conditions\n",
        "# STEP 4:\n",
        "        # calculate the length of upper case and lower case values.\n",
        "# STEP 2: \n",
        "        # return upper and lower case values and call function."
      ],
      "metadata": {
        "id": "roq7QONpwfab"
      },
      "execution_count": null,
      "outputs": []
    },
    {
      "cell_type": "code",
      "source": [],
      "metadata": {
        "id": "CSjU9gjzxqgv"
      },
      "execution_count": null,
      "outputs": []
    },
    {
      "cell_type": "code",
      "source": [
        "def string_calculator(value):\n",
        "    upper = ''\n",
        "    lower = ''\n",
        "    for i in value:\n",
        "        if i.isupper():\n",
        "            upper += i\n",
        "            total_upper = len(upper)\n",
        "    \n",
        "        elif i.islower():\n",
        "            lower += i\n",
        "            total_lower = len(lower)\n",
        "\n",
        "    return f\"No. of Upper case characters : {total_upper} and No. of Lower case Characters : {total_lower}\"\n",
        "\n",
        "words = input(\"Enter words to calculate upper and lower characters: \")\n",
        "string_calculator(words)"
      ],
      "metadata": {
        "colab": {
          "base_uri": "https://localhost:8080/",
          "height": 53
        },
        "id": "zO_Lo6Ujuy1O",
        "outputId": "c75ec0b2-e8a3-44de-ab9e-b71cb7231846"
      },
      "execution_count": 11,
      "outputs": [
        {
          "name": "stdout",
          "output_type": "stream",
          "text": [
            "Enter words to calculate upper and lower characters: I am loving Python language\n"
          ]
        },
        {
          "output_type": "execute_result",
          "data": {
            "text/plain": [
              "'No. of Upper case characters : 2 and No. of Lower case Characters : 21'"
            ],
            "application/vnd.google.colaboratory.intrinsic+json": {
              "type": "string"
            }
          },
          "metadata": {},
          "execution_count": 11
        }
      ]
    }
  ]
}