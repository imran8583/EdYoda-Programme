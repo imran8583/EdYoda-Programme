{
  "nbformat": 4,
  "nbformat_minor": 0,
  "metadata": {
    "colab": {
      "provenance": [],
      "authorship_tag": "ABX9TyNs7DqFqYXL93p1DBCf4xIk",
      "include_colab_link": true
    },
    "kernelspec": {
      "name": "python3",
      "display_name": "Python 3"
    },
    "language_info": {
      "name": "python"
    }
  },
  "cells": [
    {
      "cell_type": "markdown",
      "metadata": {
        "id": "view-in-github",
        "colab_type": "text"
      },
      "source": [
        "<a href=\"https://colab.research.google.com/github/imran8583/EdYoda-Programme/blob/main/EdYoda_Assesment_2_MiniDicationary.ipynb\" target=\"_parent\"><img src=\"https://colab.research.google.com/assets/colab-badge.svg\" alt=\"Open In Colab\"/></a>"
      ]
    },
    {
      "cell_type": "code",
      "execution_count": null,
      "metadata": {
        "id": "9vKvijM7fHCc"
      },
      "outputs": [],
      "source": [
        "# Make your own mini dictionary\n",
        "\n",
        "# Write a Python program to print a dictionary whose keys should be the\n",
        "# alphabet from a-z and the value should be corresponding ASCII values"
      ]
    },
    {
      "cell_type": "code",
      "source": [
        "# ALGORITHM:\n",
        "# STEP 1:\n",
        "        # Create an empty dictionarty to add alphabet(a-z) & respective ascii values.\n",
        "# STEP 2: \n",
        "        # Take start and end alphabet from the user.\n",
        "# STEP 3:\n",
        "        # Use range function to loop over the values from alphabets (a-z) that is 97 to 122.\n",
        "# STEP 4:\n",
        "        # Use ord function to get unicode code of a specified character.\n",
        "# STEP 5:\n",
        "        # Use chr function to get the character that represents the specified unicode.\n",
        "# FINAL STEP:\n",
        "        # With every Iteration add 'character' as dictionary 'key' and its value as\n",
        "        # dictionary 'vaue' in our empty dictionary."
      ],
      "metadata": {
        "id": "_DDVteCUfWH0"
      },
      "execution_count": 9,
      "outputs": []
    },
    {
      "cell_type": "code",
      "source": [
        "sample_dict = {}\n",
        "start_alphabet = input(\"Enter the first alphabet to start from: \")\n",
        "end_alphabet = input(\"Enter the last alphabet to end with: \")\n",
        "\n",
        "for i in range(ord(start_alphabet), ord(end_alphabet) + 1):\n",
        "    sample_dict[chr(i)] = i\n",
        "\n",
        "sample_dict"
      ],
      "metadata": {
        "id": "S5WJtaa3fZWr",
        "colab": {
          "base_uri": "https://localhost:8080/"
        },
        "outputId": "899fd395-ac4b-4417-f0eb-588a93493a0a"
      },
      "execution_count": 10,
      "outputs": [
        {
          "name": "stdout",
          "output_type": "stream",
          "text": [
            "Enter the first alphabet to start from: a\n",
            "Enter the last alphabet to end with: z\n"
          ]
        },
        {
          "output_type": "execute_result",
          "data": {
            "text/plain": [
              "{'a': 97,\n",
              " 'b': 98,\n",
              " 'c': 99,\n",
              " 'd': 100,\n",
              " 'e': 101,\n",
              " 'f': 102,\n",
              " 'g': 103,\n",
              " 'h': 104,\n",
              " 'i': 105,\n",
              " 'j': 106,\n",
              " 'k': 107,\n",
              " 'l': 108,\n",
              " 'm': 109,\n",
              " 'n': 110,\n",
              " 'o': 111,\n",
              " 'p': 112,\n",
              " 'q': 113,\n",
              " 'r': 114,\n",
              " 's': 115,\n",
              " 't': 116,\n",
              " 'u': 117,\n",
              " 'v': 118,\n",
              " 'w': 119,\n",
              " 'x': 120,\n",
              " 'y': 121,\n",
              " 'z': 122}"
            ]
          },
          "metadata": {},
          "execution_count": 10
        }
      ]
    }
  ]
}