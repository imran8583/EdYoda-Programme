{
  "nbformat": 4,
  "nbformat_minor": 0,
  "metadata": {
    "colab": {
      "provenance": [],
      "authorship_tag": "ABX9TyNazwDo+e4VPrlKDj69C4lP",
      "include_colab_link": true
    },
    "kernelspec": {
      "name": "python3",
      "display_name": "Python 3"
    },
    "language_info": {
      "name": "python"
    }
  },
  "cells": [
    {
      "cell_type": "markdown",
      "metadata": {
        "id": "view-in-github",
        "colab_type": "text"
      },
      "source": [
        "<a href=\"https://colab.research.google.com/github/imran8583/EdYoda-Programme/blob/main/EdYoda_Assesment_1_Odd_Days.ipynb\" target=\"_parent\"><img src=\"https://colab.research.google.com/assets/colab-badge.svg\" alt=\"Open In Colab\"/></a>"
      ]
    },
    {
      "cell_type": "code",
      "execution_count": 8,
      "metadata": {
        "colab": {
          "base_uri": "https://localhost:8080/"
        },
        "id": "dqWKT7xcdodZ",
        "outputId": "60c0e8e6-979d-4c5c-abb5-031e5d439fc9"
      },
      "outputs": [
        {
          "output_type": "stream",
          "name": "stdout",
          "text": [
            "Number of even numbers:  7\n",
            "Number of odd numbers:  8\n"
          ]
        }
      ],
      "source": [
        "numbers = (1, 2, 3, 4, 5, 6, 7, 8, 9, 10, 11, 12, 13, 14, 15)\n",
        "even_days = 0\n",
        "odd_days = 0\n",
        " \n",
        "for number in numbers:\n",
        "    if number % 2 == 0:\n",
        "        even_days += 1\n",
        "    else:\n",
        "    \t  odd_days += 1\n",
        "        \n",
        "print(\"Number of even numbers: \",  even_days)\n",
        "print(\"Number of odd numbers: \",  odd_days)"
      ]
    },
    {
      "cell_type": "code",
      "source": [],
      "metadata": {
        "id": "UDdDQJtYgJig"
      },
      "execution_count": 19,
      "outputs": []
    }
  ]
}