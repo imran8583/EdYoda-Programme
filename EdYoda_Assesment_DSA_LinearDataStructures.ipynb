{
  "nbformat": 4,
  "nbformat_minor": 0,
  "metadata": {
    "colab": {
      "provenance": [],
      "authorship_tag": "ABX9TyO8s9+2Vpbjcx9gEXPgA9aX",
      "include_colab_link": true
    },
    "kernelspec": {
      "name": "python3",
      "display_name": "Python 3"
    },
    "language_info": {
      "name": "python"
    }
  },
  "cells": [
    {
      "cell_type": "markdown",
      "metadata": {
        "id": "view-in-github",
        "colab_type": "text"
      },
      "source": [
        "<a href=\"https://colab.research.google.com/github/imran8583/EdYoda-Programme/blob/main/EdYoda_Assesment_DSA_LinearDataStructures.ipynb\" target=\"_parent\"><img src=\"https://colab.research.google.com/assets/colab-badge.svg\" alt=\"Open In Colab\"/></a>"
      ]
    },
    {
      "cell_type": "markdown",
      "source": [
        "# **DSA assignment-1: Linear Data Structures**"
      ],
      "metadata": {
        "id": "ZQdvfmpq9dfw"
      }
    },
    {
      "cell_type": "code",
      "source": [
        "# Q1. Write a program to find all pairs of an integer array whose sum is equal to a given number?\n",
        "\n",
        "array = [1,2,3,4,5,6,7,8,9,10]\n",
        "sum = int(input(\"Enter the sum value: \"))\n",
        "\n",
        "for i in range(len(array)):\n",
        "    for j in range(i+1,len(array)):\n",
        "        if array[i] + array[j] == sum:\n",
        "            pair = array[i] + array[j]\n",
        "            print(f\"Entered sum is {sum} & pair of {array[i]} + {array[j]} is also {pair}\")"
      ],
      "metadata": {
        "colab": {
          "base_uri": "https://localhost:8080/"
        },
        "id": "5H1R_ES3NI55",
        "outputId": "6be2963a-23db-4fa8-c44a-52b39059669a"
      },
      "execution_count": 59,
      "outputs": [
        {
          "output_type": "stream",
          "name": "stdout",
          "text": [
            "Enter the sum value: 6\n",
            "Entered sum is 6 & pair of 1 + 5 is also 6\n",
            "Entered sum is 6 & pair of 2 + 4 is also 6\n"
          ]
        }
      ]
    },
    {
      "cell_type": "code",
      "source": [
        "# Q1. Write a program to find all pairs of an integer array whose sum is equal to a given number?\n",
        "\n",
        "def pairOfSum(arr,sum):\n",
        "    result = []\n",
        "\n",
        "    while arr:  \n",
        "        last = arr.pop()\n",
        "        diff = sum - last\n",
        "\n",
        "        if diff in arr:\n",
        "            result.append((diff,last))\n",
        "    return result\n",
        "\n",
        "array = [1,2,3,4,5,6,7,10,9,8]\n",
        "sum = 9\n",
        "pairOfSum(array,sum)"
      ],
      "metadata": {
        "colab": {
          "base_uri": "https://localhost:8080/"
        },
        "id": "TGki9HBXUnoM",
        "outputId": "4a64ed3b-703e-4d7b-b816-3bed5b49779d"
      },
      "execution_count": 60,
      "outputs": [
        {
          "output_type": "execute_result",
          "data": {
            "text/plain": [
              "[(1, 8), (2, 7), (3, 6), (4, 5)]"
            ]
          },
          "metadata": {},
          "execution_count": 60
        }
      ]
    },
    {
      "cell_type": "code",
      "source": [],
      "metadata": {
        "id": "8Na08zKbVadQ"
      },
      "execution_count": 60,
      "outputs": []
    },
    {
      "cell_type": "code",
      "source": [
        "# Q2. Write a program to reverse an array in place? In place means you cannot create a new array.\n",
        "# You have to update the original array.\n",
        "\n",
        "array = [1,2,3,4,7,9,5,6]\n",
        "print(f\"Array before: {array}\")\n",
        "\n",
        "def arrayInPlace(arr):\n",
        "    for i in range(len(arr)):\n",
        "        for j in range(i+1, len(arr)):\n",
        "            arr[i],arr[j] = arr[j],arr[i]\n",
        "    return arr\n",
        "\n",
        "arrayAfter = arrayInPlace(array)\n",
        "print(f\"Array after: {arrayAfter}\")\n"
      ],
      "metadata": {
        "id": "UBax7SDFNUtC",
        "colab": {
          "base_uri": "https://localhost:8080/"
        },
        "outputId": "cfa6cac9-db67-418d-e551-d6c9fa1c3eb2"
      },
      "execution_count": 61,
      "outputs": [
        {
          "output_type": "stream",
          "name": "stdout",
          "text": [
            "Array before: [1, 2, 3, 4, 7, 9, 5, 6]\n",
            "Array after: [6, 5, 9, 7, 4, 3, 2, 1]\n"
          ]
        }
      ]
    },
    {
      "cell_type": "code",
      "source": [
        "# Q2. Write a program to reverse an array in place? In place means you cannot create a new array.\n",
        "# You have to update the original array.\n",
        "\n",
        "\n",
        "array = [1,2,3,4,7,9,5]\n",
        "print(f\"Array before: {array}\")\n",
        "\n",
        "start = 0\n",
        "end = len(array) - 1\n",
        "\n",
        "while start < end:\n",
        "  \n",
        "    array[start], array[end] = array[end],array[start]\n",
        "    start += 1\n",
        "    end -= 1\n",
        "\n",
        "print(f\"Array after: {array}\")\n"
      ],
      "metadata": {
        "colab": {
          "base_uri": "https://localhost:8080/"
        },
        "id": "m3GA7PS9hKMx",
        "outputId": "daf8adb3-c6c6-4cfc-ad31-8c4fcfa6e729"
      },
      "execution_count": 62,
      "outputs": [
        {
          "output_type": "stream",
          "name": "stdout",
          "text": [
            "Array before: [1, 2, 3, 4, 7, 9, 5]\n",
            "Array after: [5, 9, 7, 4, 3, 2, 1]\n"
          ]
        }
      ]
    },
    {
      "cell_type": "code",
      "source": [],
      "metadata": {
        "id": "ecvDmY3aVbgm"
      },
      "execution_count": 62,
      "outputs": []
    },
    {
      "cell_type": "code",
      "source": [
        "# Q3. Write a program to check if two strings are a rotation of each other?\n",
        "\n",
        "s1 = \"abcde\"\n",
        "s2 = \"deabc\"\n",
        "\n",
        "if len(s1) == len(s2):\n",
        "    if s2 in (s1 + s1):\n",
        "      print(f\"{s2} is rotation of {s1}\")\n",
        "else:\n",
        "    print(f\"{s2} is not a rotation of {s1}\")"
      ],
      "metadata": {
        "colab": {
          "base_uri": "https://localhost:8080/"
        },
        "id": "bHMAuWo9W4ya",
        "outputId": "8eac0512-eaae-4bd4-c326-f8adb023423c"
      },
      "execution_count": 63,
      "outputs": [
        {
          "output_type": "stream",
          "name": "stdout",
          "text": [
            "deabc is rotation of abcde\n"
          ]
        }
      ]
    },
    {
      "cell_type": "code",
      "source": [
        "# Q3. Write a program to check if two strings are a rotation of each other?\n",
        "\n",
        "def is_rotation(string1, string2):\n",
        "    if len(string1) != len(string2):\n",
        "        return False\n",
        "    return string1 in (string2 + string2)\n",
        "\n",
        "print(is_rotation(\"hello\", \"llohe\"))  # True\n",
        "print(is_rotation(\"hello\", \"lloeh\"))  # False\n",
        "print(is_rotation(\"hello\", \"hellohello\"))  # True"
      ],
      "metadata": {
        "id": "SPqQ6Os7aPXP",
        "colab": {
          "base_uri": "https://localhost:8080/"
        },
        "outputId": "e99972ae-c26a-4c5f-b2f7-85160681a625"
      },
      "execution_count": 64,
      "outputs": [
        {
          "output_type": "stream",
          "name": "stdout",
          "text": [
            "True\n",
            "False\n",
            "False\n"
          ]
        }
      ]
    },
    {
      "cell_type": "code",
      "source": [],
      "metadata": {
        "id": "d5sXWuXyVVY6"
      },
      "execution_count": 64,
      "outputs": []
    },
    {
      "cell_type": "code",
      "source": [
        "# Q4. Write a program to print the first non-repeated character from a string?\n",
        "\n",
        "strg = \"abcabcabcdabcdert\"\n",
        "\n",
        "frequency = {}\n",
        "for i in strg:\n",
        "    frequency[i] = strg.count(i)\n",
        "\n",
        "for j in strg:\n",
        "    if frequency[j] == 1:\n",
        "        print(f\"{j} is the non repeated character of input '{strg}'\")\n",
        "        break\n",
        "\n",
        "# print(frequency)"
      ],
      "metadata": {
        "id": "PPbS7mv3aUzQ",
        "colab": {
          "base_uri": "https://localhost:8080/"
        },
        "outputId": "096f644b-c8f2-46bc-c6a5-b696f1ef3b81"
      },
      "execution_count": 65,
      "outputs": [
        {
          "output_type": "stream",
          "name": "stdout",
          "text": [
            "e is the non repeated character of input 'abcabcabcdabcdert'\n"
          ]
        }
      ]
    },
    {
      "cell_type": "code",
      "source": [
        "# Q4. Write a program to print the first non-repeated character from a string?\n",
        "\n",
        "def firstNonRepeated(string):\n",
        "    frequency = {}\n",
        "    for char in string:\n",
        "        if char in frequency:\n",
        "            frequency[char] += 1\n",
        "        else:\n",
        "            frequency[char] = 1\n",
        "    for char in string:\n",
        "        if frequency[char] == 1:\n",
        "            return char\n",
        "    return None\n",
        "\n",
        "print(firstNonRepeated(\"hhello\"))  # \"e\"\n",
        "print(firstNonRepeated(\"kkabcdefghijklmnopqrstuvwxyz\"))  # \"a\"\n",
        "print(firstNonRepeated(\"abcdefghiusadhghsdfhiyuqwrwrtyulvngjklmnopqrstuvwxyzabcdefghijklmnopqrstuvwxyz\"))  # None"
      ],
      "metadata": {
        "colab": {
          "base_uri": "https://localhost:8080/"
        },
        "id": "kV6LngyXVpy4",
        "outputId": "6dda6dfb-5b12-4f6d-8613-fba5753e7aa5"
      },
      "execution_count": 66,
      "outputs": [
        {
          "output_type": "stream",
          "name": "stdout",
          "text": [
            "e\n",
            "a\n",
            "None\n"
          ]
        }
      ]
    },
    {
      "cell_type": "code",
      "source": [],
      "metadata": {
        "id": "lmDQi0bVfPxJ"
      },
      "execution_count": 66,
      "outputs": []
    },
    {
      "cell_type": "code",
      "source": [
        "# Q5. Read about the Tower of Hanoi algorithm. Write a program to implement it.\n",
        "\n",
        "# This can be done with resursive approach\n",
        "\n",
        "def towerOfHanoi(numbers,start,helper,end):\n",
        "\t\tif numbers == 1:\n",
        "\t\t\t\tprint(f\"Move disk {numbers} from {start} to {end}\")\n",
        "\t\t\t\treturn\n",
        "\t\ttowerOfHanoi(numbers - 1, start, end, helper)\n",
        "\t\tprint(f\"Move disk {numbers} from {start} to {end}\")\n",
        "\t\ttowerOfHanoi(numbers - 1, helper, start, end)\n",
        "\t\n",
        "disk = 3\n",
        "towerOfHanoi(disk, \"A\",\"B\",\"C\")\n"
      ],
      "metadata": {
        "colab": {
          "base_uri": "https://localhost:8080/"
        },
        "id": "K6MeD1hqaBb4",
        "outputId": "e300e3b0-6a3a-4b64-d3b7-1cad27427795"
      },
      "execution_count": 67,
      "outputs": [
        {
          "output_type": "stream",
          "name": "stdout",
          "text": [
            "Move disk 1 from A to C\n",
            "Move disk 2 from A to B\n",
            "Move disk 1 from C to B\n",
            "Move disk 3 from A to C\n",
            "Move disk 1 from B to A\n",
            "Move disk 2 from B to C\n",
            "Move disk 1 from A to C\n"
          ]
        }
      ]
    },
    {
      "cell_type": "code",
      "source": [],
      "metadata": {
        "id": "J5x-v-WvaBya"
      },
      "execution_count": 67,
      "outputs": []
    },
    {
      "cell_type": "code",
      "source": [
        "# Q6. Read about infix, prefix, and postfix expressions.\n",
        "# Write a program to convert postfix to prefix expression.\n",
        "\n",
        "expression = \"ABC/-AK/L-*\"\n",
        "operators = [\"-\", \"+\", \"/\", \"*\"]\n",
        "stack = []\n",
        "\n",
        "for i in expression:\n",
        "    if i in operators:\n",
        "        operand1 = stack.pop()\n",
        "        operand2 = stack.pop()\n",
        "        result = i + operand2 + operand1\n",
        "        stack.append(result)\n",
        "    else:\n",
        "        stack.append(i)\n",
        "\n",
        "print(f\"Prefix expression: {expression},\\nPostfix expression:  {stack[0]}\")"
      ],
      "metadata": {
        "id": "oGlU1ViwaExn",
        "colab": {
          "base_uri": "https://localhost:8080/"
        },
        "outputId": "885662c4-7dea-4745-e970-31df6b352217"
      },
      "execution_count": 68,
      "outputs": [
        {
          "output_type": "stream",
          "name": "stdout",
          "text": [
            "Prefix expression: ABC/-AK/L-*,\n",
            "Postfix expression:  *-A/BC-/AKL\n"
          ]
        }
      ]
    },
    {
      "cell_type": "code",
      "source": [
        "# Q6. Read about infix, prefix, and postfix expressions.\n",
        "# Write a program to convert postfix to prefix expression.\n",
        "\n",
        "def postfix_to_prefix(expression):\n",
        "    stack = []\n",
        "\n",
        "    for i in expression:\n",
        "      \n",
        "        if i in ['+', '-', '*', '/']:\n",
        "            operand2 = stack.pop()\n",
        "            operand1 = stack.pop()\n",
        "            \n",
        "            result = i + operand1 + operand2\n",
        "            stack.append(result)\n",
        "            \n",
        "        else:\n",
        "            stack.append(i)\n",
        "\n",
        "    return stack[0]\n",
        "\n",
        "\n",
        "print(postfix_to_prefix(\"ABC/-AK/L-*\"))  # Output: \"*-A/BC-/A/KL\"\n"
      ],
      "metadata": {
        "id": "EfejL1h0LOHX",
        "colab": {
          "base_uri": "https://localhost:8080/"
        },
        "outputId": "42e602e6-505e-467d-b3f3-b58575e63802"
      },
      "execution_count": 69,
      "outputs": [
        {
          "output_type": "stream",
          "name": "stdout",
          "text": [
            "*-A/BC-/AKL\n"
          ]
        }
      ]
    },
    {
      "cell_type": "code",
      "source": [],
      "metadata": {
        "id": "TQGmw4UkNCOQ"
      },
      "execution_count": 69,
      "outputs": []
    },
    {
      "cell_type": "code",
      "source": [
        "# Q7. Write a program to convert prefix expression to infix expression.\n",
        "\n",
        "def prefixToInfix(expression):\n",
        "    stack = []\n",
        "    # we need to reverse the expression to add operands first in the stack before operators\n",
        "    exp = expression[::-1]\n",
        "\n",
        "    for char in exp:\n",
        "        if char in [\"+\", \"-\", \"*\", \"/\"]:\n",
        "            operand1 = stack.pop()\n",
        "            operand2 = stack.pop()\n",
        "            result = operand1 + char + operand2\n",
        "            stack.append(result)\n",
        "            \n",
        "        else:\n",
        "            stack.append(char)\n",
        "\n",
        "    return result\n",
        "\n",
        "prefixToInfix(\"+-*AB/CDE\")"
      ],
      "metadata": {
        "id": "Vvmtv9dEaIpW",
        "colab": {
          "base_uri": "https://localhost:8080/",
          "height": 36
        },
        "outputId": "52c24d58-fda0-451e-f987-0348ce35e963"
      },
      "execution_count": 70,
      "outputs": [
        {
          "output_type": "execute_result",
          "data": {
            "text/plain": [
              "'A*B-C/D+E'"
            ],
            "application/vnd.google.colaboratory.intrinsic+json": {
              "type": "string"
            }
          },
          "metadata": {},
          "execution_count": 70
        }
      ]
    },
    {
      "cell_type": "code",
      "source": [],
      "metadata": {
        "id": "QSOhQkVj_Wi9"
      },
      "execution_count": 70,
      "outputs": []
    },
    {
      "cell_type": "code",
      "source": [
        "# Q8. Write a program to check if all the brackets are closed in a given code snippet.\n",
        "\n",
        "def checkBrackets(snippet):\n",
        "\n",
        "    stack = []\n",
        "    closingBracketsData = {'{': '}', '[': ']', '(': ')'}\n",
        "\n",
        "    for char in snippet:\n",
        "      \n",
        "        if char in closingBracketsData:\n",
        "            stack.append(char)  \n",
        "\n",
        "        elif char in closingBracketsData.values():\n",
        "            if not stack:\n",
        "                return False\n",
        "            elif closingBracketsData[stack[-1]] != char:\n",
        "                return False\n",
        "            else:\n",
        "                stack.pop()\n",
        "    \n",
        "    return not stack\n",
        "\n",
        "\n",
        "print(checkBrackets(\"{([()]}\")) # False\n",
        "print(checkBrackets(\"{[(])}\")) # False\n",
        "print(checkBrackets(\"{[{[{[{{[[(())]]}}]}]}]}\")) # True\n"
      ],
      "metadata": {
        "id": "0aGcdRn2DFmU",
        "colab": {
          "base_uri": "https://localhost:8080/"
        },
        "outputId": "30238dfb-0fbb-40ab-8148-bf911a794aef"
      },
      "execution_count": 71,
      "outputs": [
        {
          "output_type": "stream",
          "name": "stdout",
          "text": [
            "False\n",
            "False\n",
            "True\n"
          ]
        }
      ]
    },
    {
      "cell_type": "code",
      "source": [],
      "metadata": {
        "id": "-r5nFn6d_bmH"
      },
      "execution_count": 71,
      "outputs": []
    },
    {
      "cell_type": "code",
      "source": [
        "# creating a stack class that we gonna use for problem 9 and 10\n",
        "\n",
        "class Stack:\n",
        "    def __init__(self):\n",
        "        self.data = []\n",
        "\n",
        "    def push(self,element):\n",
        "        return self.data.append(element)\n",
        "\n",
        "    def pop(self):\n",
        "        if len(self.data) > 0:\n",
        "            return self.data.pop()\n",
        "        else:\n",
        "            print(\"Stack is empty\")\n",
        "    \n",
        "    def isEmpty(self):\n",
        "        return self.data == []\n",
        "\n",
        "    def show(self):\n",
        "        for val in self.data:\n",
        "            print(val, end = \" \")"
      ],
      "metadata": {
        "id": "1sHHc8Ze7067"
      },
      "execution_count": 72,
      "outputs": []
    },
    {
      "cell_type": "code",
      "source": [
        "# Q9. Write a program to reverse a stack.\n",
        "\n",
        "def bottomInsert(stck, value):\n",
        "   \n",
        "    if stck.isEmpty():\n",
        "        stck.push(value)\n",
        "    else:\n",
        "        popped = stck.pop()\n",
        "        bottomInsert(stck, value)\n",
        "        stck.push(popped)\n",
        " \n",
        "def reverse(stck):\n",
        "    if stck.isEmpty():\n",
        "        pass\n",
        "    else:\n",
        "        popped = stck.pop()\n",
        "        reverse(stck)\n",
        "        bottomInsert(stck, popped)\n",
        "\n",
        "stk = Stack() # creating an objection using stack class created above\n",
        " \n",
        "stk.push(1)\n",
        "stk.push(2)\n",
        "stk.push(3)\n",
        "stk.push(4)\n",
        "stk.push(5)\n",
        "\n",
        "print(\"Stack before reverse: \")\n",
        "stk.show()\n",
        "print(\"\\n\")\n",
        "\n",
        "reverse(stk)\n",
        "print(\"Stack after reverse: \")\n",
        "stk.show()"
      ],
      "metadata": {
        "colab": {
          "base_uri": "https://localhost:8080/"
        },
        "id": "aq14QWZAB55t",
        "outputId": "33e7bcb6-2f4e-4dfd-d771-952ba236ad4e"
      },
      "execution_count": 73,
      "outputs": [
        {
          "output_type": "stream",
          "name": "stdout",
          "text": [
            "Stack before reverse: \n",
            "1 2 3 4 5 \n",
            "\n",
            "Stack after reverse: \n",
            "5 4 3 2 1 "
          ]
        }
      ]
    },
    {
      "cell_type": "code",
      "source": [
        "# Q9. Write a program to reverse a stack.\n",
        "\n",
        "def reverse_stack(stack):\n",
        "  \n",
        "    tempStack = Stack()\n",
        "    while not stack.isEmpty():\n",
        "        tempStack.push(stack.pop())\n",
        "\n",
        "    return tempStack\n",
        "\n",
        "stack = Stack()\n",
        "stack.push(10)\n",
        "stack.push(30)\n",
        "stack.push(60)\n",
        "stack.push(90)\n",
        "\n",
        "print(stack.data) # should print [10, 30, 60, 90]\n",
        "\n",
        "reversed_stack = reverse_stack(stack)\n",
        "\n",
        "print(reversed_stack.data) # should print [90, 60, 30, 10]\n"
      ],
      "metadata": {
        "colab": {
          "base_uri": "https://localhost:8080/"
        },
        "id": "mNLmdot9MA_s",
        "outputId": "c86cd508-77e3-423d-d402-bebb959a991c"
      },
      "execution_count": 74,
      "outputs": [
        {
          "output_type": "stream",
          "name": "stdout",
          "text": [
            "[10, 30, 60, 90]\n",
            "[90, 60, 30, 10]\n"
          ]
        }
      ]
    },
    {
      "cell_type": "code",
      "source": [],
      "metadata": {
        "id": "lbVWFvg77Lyq"
      },
      "execution_count": 74,
      "outputs": []
    },
    {
      "cell_type": "code",
      "source": [
        "# Q10. Write a program to find the smallest number using a stack.\n",
        "\n",
        "def smallest(numbers):\n",
        "    stack = Stack() # creating an objection using stack class created above\n",
        "\n",
        "    for num in numbers:\n",
        "        stack.push(num)\n",
        "\n",
        "    smallest_val = stack.pop()\n",
        "\n",
        "    while not stack.isEmpty():\n",
        "        val = stack.pop()\n",
        "        if val < smallest_val:\n",
        "            smallest_val = val\n",
        "\n",
        "    return f\"The smallest number from the stack is {smallest_val}\"\n",
        "\n",
        "\n",
        "numbers = [1,9,-9,7,3,-3,9]\n",
        "print(smallest(numbers))\n",
        "\n",
        "num = (1,9,7,3,6,-3,90,-94)\n",
        "print(smallest(num))"
      ],
      "metadata": {
        "id": "EwNPx5zNgm9z",
        "colab": {
          "base_uri": "https://localhost:8080/"
        },
        "outputId": "096c95a7-dbe0-48b9-e3d6-24e37f3c13bd"
      },
      "execution_count": 75,
      "outputs": [
        {
          "output_type": "stream",
          "name": "stdout",
          "text": [
            "The smallest number from the stack is -9\n",
            "The smallest number from the stack is -94\n"
          ]
        }
      ]
    },
    {
      "cell_type": "code",
      "source": [
        "# Q10. Write a program to find the smallest number using a stack.\n",
        "\n",
        "def smallestStackVal(stack):\n",
        "\n",
        "    popped_element = stack.pop()\n",
        "    for val in stack:\n",
        "        if val < popped_element:\n",
        "            popped_element = val\n",
        "\n",
        "    return popped_element\n",
        "\n",
        "stack = [1,5,-988,9,-19,-3,9,7,6,7,-222]\n",
        "smallestStackVal(stack)"
      ],
      "metadata": {
        "id": "sR-fdWZTDFrt",
        "colab": {
          "base_uri": "https://localhost:8080/"
        },
        "outputId": "4e10a71c-d1f4-4842-f5cb-7cb636204a8b"
      },
      "execution_count": 76,
      "outputs": [
        {
          "output_type": "execute_result",
          "data": {
            "text/plain": [
              "-988"
            ]
          },
          "metadata": {},
          "execution_count": 76
        }
      ]
    }
  ]
}