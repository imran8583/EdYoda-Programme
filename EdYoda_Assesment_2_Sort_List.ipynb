{
  "nbformat": 4,
  "nbformat_minor": 0,
  "metadata": {
    "colab": {
      "provenance": [],
      "authorship_tag": "ABX9TyOoh8NdQp5gxHXEtqLCZDcq",
      "include_colab_link": true
    },
    "kernelspec": {
      "name": "python3",
      "display_name": "Python 3"
    },
    "language_info": {
      "name": "python"
    }
  },
  "cells": [
    {
      "cell_type": "markdown",
      "metadata": {
        "id": "view-in-github",
        "colab_type": "text"
      },
      "source": [
        "<a href=\"https://colab.research.google.com/github/imran8583/EdYoda-Programme/blob/main/EdYoda_Assesment_2_Sort_List.ipynb\" target=\"_parent\"><img src=\"https://colab.research.google.com/assets/colab-badge.svg\" alt=\"Open In Colab\"/></a>"
      ]
    },
    {
      "cell_type": "code",
      "execution_count": null,
      "metadata": {
        "id": "Je3qCzNdx77R"
      },
      "outputs": [],
      "source": [
        "# Fun with Lists and Tuples\n",
        "\n",
        "# Write a Python program to get a list, sorted in increasing order\n",
        "# by the last element in each tuple from a given list of non-empty tuples"
      ]
    },
    {
      "cell_type": "code",
      "source": [
        "# ALGORITHM WITH SORT FUNCTION PARAMETERS:\n",
        "# STEP 1:\n",
        "        # Create a function that takes last index value of tuple\n",
        "# STEP 2:\n",
        "        # Sort the list y using sort function\n",
        "        # Syntax of Sort Function ---> list.sort(reverse=True|False, key=myFunc)\n",
        "# FINAL STEP:\n",
        "        # Use \"key\" (to specify the sorting criteria) and add function that takes\n",
        "        # last index value of tuple"
      ],
      "metadata": {
        "id": "WNz1sJJVGrgs"
      },
      "execution_count": null,
      "outputs": []
    },
    {
      "cell_type": "code",
      "source": [
        "sample_list = [(2, 5), (1, 2), (4, 4), (2, 3), (2, 1),(5,1), (3,1), (6,2)]\n",
        "list1 = []\n",
        "\n",
        "def last_val(n):\n",
        "    return n[-1]\n",
        "\n",
        "sample_list.sort(key = last_val)\n",
        "\n",
        "print(sample_list)"
      ],
      "metadata": {
        "colab": {
          "base_uri": "https://localhost:8080/"
        },
        "id": "p1w_tIEgFAaV",
        "outputId": "254c06c5-05dc-434a-ee3a-3524e0c07df2"
      },
      "execution_count": 2,
      "outputs": [
        {
          "output_type": "stream",
          "name": "stdout",
          "text": [
            "[(2, 1), (5, 1), (3, 1), (1, 2), (6, 2), (2, 3), (4, 4), (2, 5)]\n"
          ]
        }
      ]
    },
    {
      "cell_type": "code",
      "source": [],
      "metadata": {
        "id": "JLCzU5gZHwOc"
      },
      "execution_count": null,
      "outputs": []
    },
    {
      "cell_type": "code",
      "source": [
        "# PROBLEM WITH FOR FUNCTION:\n",
        "\n",
        "sample_List = [(2, 5), (1, 2), (4, 4), (2, 3), (2, 1),(5,1), (3,1), (6,2)]\n",
        "list1 = []\n",
        "final_list =[]\n",
        "\n",
        "for x, y in sample_List:\n",
        "    list1.append((y,x))\n",
        "list1.sort()\n",
        "\n",
        "for a,b in list1:\n",
        "    final_list.append((b,a))\n",
        "print(final_list) "
      ],
      "metadata": {
        "id": "Ar3EGp7gyOAJ",
        "outputId": "704864f1-c382-4831-9450-ee9a9468bfdb",
        "colab": {
          "base_uri": "https://localhost:8080/"
        }
      },
      "execution_count": 3,
      "outputs": [
        {
          "output_type": "stream",
          "name": "stdout",
          "text": [
            "[(2, 1), (3, 1), (5, 1), (1, 2), (6, 2), (2, 3), (4, 4), (2, 5)]\n"
          ]
        }
      ]
    }
  ]
}