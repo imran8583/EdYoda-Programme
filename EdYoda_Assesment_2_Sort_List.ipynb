{
  "nbformat": 4,
  "nbformat_minor": 0,
  "metadata": {
    "colab": {
      "provenance": [],
      "authorship_tag": "ABX9TyN59w4yZ2tx9mg+8exgnXhB",
      "include_colab_link": true
    },
    "kernelspec": {
      "name": "python3",
      "display_name": "Python 3"
    },
    "language_info": {
      "name": "python"
    }
  },
  "cells": [
    {
      "cell_type": "markdown",
      "metadata": {
        "id": "view-in-github",
        "colab_type": "text"
      },
      "source": [
        "<a href=\"https://colab.research.google.com/github/imran8583/EdYoda-Programme/blob/main/EdYoda_Assesment_2_Sort_List.ipynb\" target=\"_parent\"><img src=\"https://colab.research.google.com/assets/colab-badge.svg\" alt=\"Open In Colab\"/></a>"
      ]
    },
    {
      "cell_type": "code",
      "execution_count": 3,
      "metadata": {
        "id": "Je3qCzNdx77R"
      },
      "outputs": [],
      "source": [
        "# Fun with Lists and Tuples\n",
        "\n",
        "# Write a Python program to get a list, sorted in increasing order\n",
        "# by the last element in each tuple from a given list of non-empty tuples"
      ]
    },
    {
      "cell_type": "code",
      "source": [],
      "metadata": {
        "id": "092LCMZyHyw8"
      },
      "execution_count": null,
      "outputs": []
    },
    {
      "cell_type": "code",
      "source": [
        "# ALGORITHM WITH SORT FUNCTION PARAMETERS:\n",
        "# STEP 1:\n",
        "        # Create a function that takes last index value of tuple\n",
        "# STEP 2:\n",
        "        # Sort the list y using sort function\n",
        "        # Syntax of Sort Function ---> list.sort(reverse=True|False, key=myFunc)\n",
        "# FINAL STEP:\n",
        "        # Use \"key\" (to specify the sorting criteria) and add function that takes\n",
        "        # last index value of tuple"
      ],
      "metadata": {
        "id": "WNz1sJJVGrgs"
      },
      "execution_count": 19,
      "outputs": []
    },
    {
      "cell_type": "code",
      "source": [
        "sample_list = [(2, 5), (1, 2), (4, 4), (2, 3), (2, 1)]\n",
        "\n",
        "def last_val(n):\n",
        "    return n[-1]\n",
        "\n",
        "sample_list.sort(key = last_val)\n",
        "\n",
        "print(sample_list)"
      ],
      "metadata": {
        "colab": {
          "base_uri": "https://localhost:8080/"
        },
        "id": "p1w_tIEgFAaV",
        "outputId": "9b438f80-f2e7-4f4b-dd2e-b356c1c03b93"
      },
      "execution_count": 23,
      "outputs": [
        {
          "output_type": "stream",
          "name": "stdout",
          "text": [
            "[(2, 1), (1, 2), (2, 3), (4, 4), (2, 5)]\n"
          ]
        }
      ]
    },
    {
      "cell_type": "code",
      "source": [],
      "metadata": {
        "id": "JLCzU5gZHwOc"
      },
      "execution_count": null,
      "outputs": []
    },
    {
      "cell_type": "code",
      "source": [
        "# ALGORITHM WITHOUT SORT FUNCTION PARAMETERS:\n",
        "# STEP 1:\n",
        "        # Create an Empty list to add the final sorted values into it.\n",
        "# STEP 2:\n",
        "        # Create a Temp list and add last sorted elements of given tuple.\n",
        "# STEP 3:\n",
        "        # Compare the values of Last Sorted element of tuple (Temp List) with Our Sample List \n",
        "# FINAL STEP:\n",
        "        # If it matches then add those value into our Empty list.\n",
        "\n",
        "# NOTE: Works only for unique last values of tuple.     "
      ],
      "metadata": {
        "id": "Ar3EGp7gyOAJ"
      },
      "execution_count": 18,
      "outputs": []
    },
    {
      "cell_type": "code",
      "source": [
        "sample_list = [(2, 5), (1, 2), (4, 4), (2, 3), (2, 1)]\n",
        "temp_list =[]\n",
        "sorted_list =[]\n",
        "\n",
        "for i in sample_list:\n",
        "    temp_list.append(i[-1])\n",
        "print(temp_list)\n",
        "\n",
        "temp_list.sort()\n",
        "print(temp_list)\n",
        "\n",
        "for j in temp_list:\n",
        "    for k in sample_list:\n",
        "        if j == k[-1]:\n",
        "            sorted_list.append(k)\n",
        "\n",
        "print(sorted_list)"
      ],
      "metadata": {
        "colab": {
          "base_uri": "https://localhost:8080/"
        },
        "id": "aJxoFyDN3Srz",
        "outputId": "301a8fdc-451e-4a7e-d1d9-a2cafc99f84d"
      },
      "execution_count": 21,
      "outputs": [
        {
          "output_type": "stream",
          "name": "stdout",
          "text": [
            "[5, 2, 4, 3, 1]\n",
            "[1, 2, 3, 4, 5]\n",
            "[(2, 1), (1, 2), (2, 3), (4, 4), (2, 5)]\n"
          ]
        }
      ]
    }
  ]
}