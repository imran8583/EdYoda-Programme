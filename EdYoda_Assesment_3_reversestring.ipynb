{
  "nbformat": 4,
  "nbformat_minor": 0,
  "metadata": {
    "colab": {
      "provenance": [],
      "authorship_tag": "ABX9TyObGmq0BhTmZTP2fi1FEdO+"
    },
    "kernelspec": {
      "name": "python3",
      "display_name": "Python 3"
    },
    "language_info": {
      "name": "python"
    }
  },
  "cells": [
    {
      "cell_type": "code",
      "execution_count": 1,
      "metadata": {
        "id": "ik1eSTF2oWsO"
      },
      "outputs": [],
      "source": [
        "# Write a Python program to reverse a string.\n",
        "\n",
        "# Sample String : \"1234abcd\"\n",
        "# Expected Output : \"dcba4321\"\n"
      ]
    },
    {
      "cell_type": "code",
      "source": [
        "# ALGORITHM USING SLICE:\n",
        "# STEP 1:\n",
        "        # Take user inputs from user to reverse its string value.\n",
        "# STEP 2: \n",
        "        # Use a slice to slice the user input from the last value that is -1\n",
        "# FINAL STEP:\n",
        "        # return the final reverse value and call the function."
      ],
      "metadata": {
        "id": "8fL9kfGctseu"
      },
      "execution_count": 20,
      "outputs": []
    },
    {
      "cell_type": "code",
      "source": [
        "# Reverse String through a slice\n",
        "def rev_string():\n",
        "    user_words = input(\"Enter a string value to reverse it: \")\n",
        "    return f'The reverse string of value \"{user_words}\" is \"{user_words[::-1]}\"'\n",
        "\n",
        "# user_words = input(\"Enter a string value to reverse it: \")\n",
        "rev_string()\n"
      ],
      "metadata": {
        "colab": {
          "base_uri": "https://localhost:8080/",
          "height": 53
        },
        "id": "f2ORrMXro3eg",
        "outputId": "209f27f7-a2a4-46da-e02d-c3ea3c8cae8a"
      },
      "execution_count": 16,
      "outputs": [
        {
          "name": "stdout",
          "output_type": "stream",
          "text": [
            "Enter a string value to reverse it: 1234abcd\n"
          ]
        },
        {
          "output_type": "execute_result",
          "data": {
            "text/plain": [
              "'The reverse string of value \"1234abcd\" is \"dcba4321\"'"
            ],
            "application/vnd.google.colaboratory.intrinsic+json": {
              "type": "string"
            }
          },
          "metadata": {},
          "execution_count": 16
        }
      ]
    },
    {
      "cell_type": "code",
      "source": [],
      "metadata": {
        "id": "hjpWEYrOpKY_"
      },
      "execution_count": 16,
      "outputs": []
    },
    {
      "cell_type": "code",
      "source": [
        "# ALGORITHM USING LOOP:\n",
        "# STEP 1:\n",
        "        # Take user inputs from user to reverse its string value.\n",
        "# STEP 2: \n",
        "        # Create a function and an empty string variable.\n",
        "# STEP 3:\n",
        "        # Iterate over the user's input and add those value first(before) the empty string\n",
        "# FINAL STEP:\n",
        "        # return the final value after all the iteration and call function."
      ],
      "metadata": {
        "id": "gvLnbdsjsKiI"
      },
      "execution_count": null,
      "outputs": []
    },
    {
      "cell_type": "code",
      "source": [
        "# Reverse String using a for loop\n",
        "\n",
        "def reverse_string(value):\n",
        "    s = ''\n",
        "    for i in value:\n",
        "        s = i + s\n",
        "    return s\n",
        "    \n",
        "words = input(\"Enter a string value to reverse it: \")\n",
        "reverse_string(words)"
      ],
      "metadata": {
        "colab": {
          "base_uri": "https://localhost:8080/",
          "height": 53
        },
        "id": "RC9Zlp53pLLJ",
        "outputId": "e3477433-e106-4180-88ed-1b65be4990b8"
      },
      "execution_count": 19,
      "outputs": [
        {
          "name": "stdout",
          "output_type": "stream",
          "text": [
            "Enter a string value to reverse it: Imran Abdul\n"
          ]
        },
        {
          "output_type": "execute_result",
          "data": {
            "text/plain": [
              "'ludbA narmI'"
            ],
            "application/vnd.google.colaboratory.intrinsic+json": {
              "type": "string"
            }
          },
          "metadata": {},
          "execution_count": 19
        }
      ]
    }
  ]
}