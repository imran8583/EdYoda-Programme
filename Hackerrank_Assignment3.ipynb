{
  "nbformat": 4,
  "nbformat_minor": 0,
  "metadata": {
    "colab": {
      "provenance": [],
      "authorship_tag": "ABX9TyOylQe90FkMZTlSnz6Dxvpv"
    },
    "kernelspec": {
      "name": "python3",
      "display_name": "Python 3"
    },
    "language_info": {
      "name": "python"
    }
  },
  "cells": [
    {
      "cell_type": "code",
      "execution_count": 8,
      "metadata": {
        "colab": {
          "base_uri": "https://localhost:8080/"
        },
        "id": "EVd_MoboLP3l",
        "outputId": "506d1b29-ecb1-4bbd-8c2a-540aea9e2de9"
      },
      "outputs": [
        {
          "output_type": "stream",
          "name": "stdout",
          "text": [
            "HACK 2\n",
            "A\n",
            "C\n",
            "H\n",
            "K\n",
            "AC\n",
            "AH\n",
            "AK\n",
            "CH\n",
            "CK\n",
            "HK\n"
          ]
        }
      ],
      "source": [
        "# Q 1. itertools.combinations()\n",
        "# Enter your code here. Read input from STDIN. Print output to STDOUT\n",
        "from itertools import combinations\n",
        "\n",
        "inpt = input().split()\n",
        "iterables = inpt[0].upper()\n",
        "size = int(inpt[1])\n",
        "\n",
        "\n",
        "for i in range(1,size+1):\n",
        "    result = list(combinations(sorted(iterables),i))\n",
        "    for j in result:\n",
        "        print(\"\".join(j))\n",
        "        \n",
        "        # for k in j:\n",
        "        #     print(k, end=\"\")\n",
        "        # print()"
      ]
    },
    {
      "cell_type": "code",
      "source": [
        "# Q 2. itertools.product()\n",
        "\n",
        "from itertools import product\n",
        "# Enter your code here. Read input from STDIN. Print output to STDOUT\n",
        "first = list(map(int, input().split()))\n",
        "second = list(map(int, input().split()))\n",
        "\n",
        "result = product(first,second)\n",
        "for i in result:\n",
        "    print(i, end =' ')\n",
        "        "
      ],
      "metadata": {
        "colab": {
          "base_uri": "https://localhost:8080/"
        },
        "id": "C2BfVESQUncE",
        "outputId": "9f05b24a-d1e9-4002-f957-40fe97167c55"
      },
      "execution_count": 4,
      "outputs": [
        {
          "output_type": "stream",
          "name": "stdout",
          "text": [
            "1 2\n",
            "3 4\n",
            "(1, 3) (1, 4) (2, 3) (2, 4) "
          ]
        }
      ]
    },
    {
      "cell_type": "code",
      "source": [
        "# Q 3. itertools.permutations()\n",
        "\n",
        "from itertools import permutations\n",
        "inpt = input().split()\n",
        "\n",
        "iterables = inpt[0]\n",
        "size = int(inpt[1])\n",
        "\n",
        "result = list(permutations(sorted(iterables),size))\n",
        "\n",
        "for i in result:\n",
        "    print(\"\".join(i))"
      ],
      "metadata": {
        "colab": {
          "base_uri": "https://localhost:8080/"
        },
        "id": "yzVpbl7rnz0V",
        "outputId": "a4d19ff4-ecf5-46cf-d7f3-6cc4e9cf9b39"
      },
      "execution_count": 9,
      "outputs": [
        {
          "output_type": "stream",
          "name": "stdout",
          "text": [
            "HACK 2\n",
            "AC\n",
            "AH\n",
            "AK\n",
            "CA\n",
            "CH\n",
            "CK\n",
            "HA\n",
            "HC\n",
            "HK\n",
            "KA\n",
            "KC\n",
            "KH\n"
          ]
        }
      ]
    },
    {
      "cell_type": "code",
      "source": [],
      "metadata": {
        "id": "dpvVsQ5EtrrG"
      },
      "execution_count": 9,
      "outputs": []
    },
    {
      "cell_type": "code",
      "source": [],
      "metadata": {
        "id": "h0DTDBuzzIuW"
      },
      "execution_count": null,
      "outputs": []
    }
  ]
}