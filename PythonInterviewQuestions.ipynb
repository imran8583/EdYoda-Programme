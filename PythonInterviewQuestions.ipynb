{
  "nbformat": 4,
  "nbformat_minor": 0,
  "metadata": {
    "colab": {
      "provenance": [],
      "authorship_tag": "ABX9TyO2VDqsHW/JB/dlbIGuiv+Q"
    },
    "kernelspec": {
      "name": "python3",
      "display_name": "Python 3"
    },
    "language_info": {
      "name": "python"
    }
  },
  "cells": [
    {
      "cell_type": "markdown",
      "source": [
        "# **Data Types:**"
      ],
      "metadata": {
        "id": "RG53jYOYw9kH"
      }
    },
    {
      "cell_type": "markdown",
      "source": [
        "**Q 1. What are Data Types?**\n",
        "Data types are the classification or categorization of data items. It represents the kind of value that tells what operations can be performed on a particular data. Since everything is an object in Python programming, data types are actually classes and variables are instance (object) of these classes."
      ],
      "metadata": {
        "id": "3Ses0WwpyFK2"
      }
    },
    {
      "cell_type": "markdown",
      "source": [
        "**Q 2. Name four of the main data types in Python?**\n",
        "Numbers, strings, lists, dictionaries, tuples, files, and sets are generally considered the main types of data. Types, None, and Booleans are sometimes also classified this way. The integer, floating-point, complex, fraction and decimal are numerical data types and simple strings and Unicode strings in Python 2 and text strings and byte strings in Python 3 are the types of string data types."
      ],
      "metadata": {
        "id": "IGeVBoWHyN5u"
      }
    },
    {
      "cell_type": "markdown",
      "source": [
        "**Q 3.What is a sequence data type in Python?**\n",
        "Sequence Data Types are used to store data in containers in the Python computer language. The different types of containers used to store the data are List, Tuple, and String"
      ],
      "metadata": {
        "id": "5u1SoiL3yN-g"
      }
    },
    {
      "cell_type": "markdown",
      "source": [
        "**Q 4. What does immutable mean and what three types of Python core data types are considered immutable?**\n",
        "An immutable data type is a type of object which cannot be modified after its creation. Numbers, strings, and tuples in Python fall into this category. Although you cannot modify an immutable object in place, you can always create a new one by running an expression.\n"
      ],
      "metadata": {
        "id": "Gj9yXJoKyN8K"
      }
    },
    {
      "cell_type": "markdown",
      "source": [
        "# **Python Operators:**"
      ],
      "metadata": {
        "id": "A0_L_pZy0MC2"
      }
    },
    {
      "cell_type": "markdown",
      "source": [
        "**Q 1. What are operators & name a few operators?**\n",
        "Operators are used to perform operations on variables and values.\n",
        "Python divides the operators in the following groups:\n",
        "\n",
        "1. Arithmetic operators\n",
        "2. Assignment operators\n",
        "3. Comparison operators\n",
        "4. Logical operators\n",
        "5. Identity operators\n",
        "6. Membership operators\n",
        "7. Bitwise operators"
      ],
      "metadata": {
        "id": "TaoCLOH83nnF"
      }
    },
    {
      "cell_type": "markdown",
      "source": [
        "**Q2. Name the Python Membership Operators?**\n",
        "in and, not in are pythons membership operators. They are used to test if a sequence is presented in an object"
      ],
      "metadata": {
        "id": "0Bwi8tKi2lHF"
      }
    },
    {
      "cell_type": "markdown",
      "source": [
        "**Q 3. Name a few python Arithmetic Operators?** Arithmetic operators are used with numeric values to perform common mathematical operations:\n",
        "1. Addition\t(x + y)\t\n",
        "2.\tSubtraction\t(x - y)\t\n",
        "3.\tMultiplication\t(x * y)\t\n",
        "4.\tDivision\t(x / y)\t\n",
        "5.\tModulus\t(x % y)\t\n",
        "6.\tExponentiation\t(x ** y)\t\n",
        "7.\tFloor division (x // y)"
      ],
      "metadata": {
        "id": "lyEEi6uL4qud"
      }
    },
    {
      "cell_type": "markdown",
      "source": [
        "**Q 4. What is the purpose of ‘not’ operators?**\n",
        "not is a Logical operator in python, used to combine conditional statements. The purpose of not operator is to reverse the result, returns False if the result is true.\n"
      ],
      "metadata": {
        "id": "u0gVt_O11-b1"
      }
    },
    {
      "cell_type": "markdown",
      "source": [
        "# **Conditional Statements:**"
      ],
      "metadata": {
        "id": "_wkZhKK65IoE"
      }
    },
    {
      "cell_type": "markdown",
      "source": [
        "**Q 1. What Is The Difference Between Pass And Continue In Python?**\n",
        "The continue statement makes the loop to resume from the next iteration.\n",
        " \n",
        "The pass statement instructs to do nothing, and the remainder of the code executes as usual."
      ],
      "metadata": {
        "id": "Rw4MQKoG6OqO"
      }
    },
    {
      "cell_type": "markdown",
      "source": [
        "\n",
        "**Q 2. List the 3 keywords used for conditional execution?** if, else and elif are the keywords used for conditional execution in python."
      ],
      "metadata": {
        "id": "p2ZVpatN6Ozm"
      }
    },
    {
      "cell_type": "markdown",
      "source": [
        "**Q.3  When should you use the “Break” In Python?** \n",
        "Python break is used to terminate the execution of the loop. It is used to bring the control out of the loop when some external condition is triggered"
      ],
      "metadata": {
        "id": "e4fSduuo6O7k"
      }
    },
    {
      "cell_type": "markdown",
      "source": [
        "**Q.4 What signifies the end of a statement block or suite in Python?** A line that is indented less than the previous line"
      ],
      "metadata": {
        "id": "-5Y91ygj6PC0"
      }
    },
    {
      "cell_type": "markdown",
      "source": [
        "# **Looping Statements:**"
      ],
      "metadata": {
        "id": "NOUbi8pk6GfX"
      }
    },
    {
      "cell_type": "markdown",
      "source": [
        "**Q 1. Which loop in Python is a counter-controlled loop?** \n",
        "In Python, for loop is a counter-controlled loop. The counter determines how many times the for loop executes"
      ],
      "metadata": {
        "id": "12u59Hmr6Puu"
      }
    },
    {
      "cell_type": "markdown",
      "source": [
        "**Q 2. Which Python statement is used to bring control out of the current loop?** In Python, break statement brings control out of the current loop in which it is present\n"
      ],
      "metadata": {
        "id": "gdPt_Rb46Px8"
      }
    },
    {
      "cell_type": "markdown",
      "source": [
        "**Q 3. What Is A Built-In Function That Python Uses To Iterate Over A Number Sequence?** \n",
        "range() generates a list of numbers, which is used to iterate over for loops."
      ],
      "metadata": {
        "id": "gt-a83JX6P6M"
      }
    },
    {
      "cell_type": "markdown",
      "source": [
        "**Q 4. How does For loop and While loop differ in Python and when do you choose to use them?** \n",
        "For loop is used when we already know the end limit of a loop statement but with while loop we use use it till we add a break function or an end statement."
      ],
      "metadata": {
        "id": "4hipN6DY6P99"
      }
    },
    {
      "cell_type": "markdown",
      "source": [
        "# **Functions:**"
      ],
      "metadata": {
        "id": "9Aqes0HR6JZs"
      }
    },
    {
      "cell_type": "markdown",
      "source": [
        "**Q.1 Mention what are the rules for local and global variables in Python?** \n",
        "*Local variables:* If a variable is assigned a new value anywhere within the function's body, it's assumed to be local.\n",
        "\n",
        " \n",
        "*Global variables:* Those variables that are only referenced inside a function are implicitly global."
      ],
      "metadata": {
        "id": "3oFTVzJ46Qfl"
      }
    },
    {
      "cell_type": "markdown",
      "source": [
        "**Q.2 What Are The Principal Differences Between The Lambda And Def?** \n",
        "Lambda Vs. Def.\n",
        "1. Def can hold multiple expressions while lambda is a uni-expression function.\n",
        "2. Def generates a function and designates a name to call it later. Lambda forms a function object and returns it.\n",
        "3. Def can have a return statement. Lambda can’t have return statements.\n",
        "1. Lambda supports to get used inside a list and dictionary."
      ],
      "metadata": {
        "id": "xdFJ-Jjj6Qhw"
      }
    },
    {
      "cell_type": "markdown",
      "source": [
        "**Q.3 What Is A Function In Python Programming?** \n",
        "A function is an object which represents a block of code and is a reusable entity. It brings modularity to a program and a higher degree of code reusability.\n",
        "Python has given us many built-in functions such as print() and provides the ability to create user-defined functions."
      ],
      "metadata": {
        "id": "t9ImgIZa6QkH"
      }
    },
    {
      "cell_type": "markdown",
      "source": [
        "**Q.4 Is It Mandatory For A Python Function To Return A Value?** \n",
        " It is not at all necessary for a function to return any value. However, if needed, we can use None as a return value."
      ],
      "metadata": {
        "id": "D8NhmRKF6Qwc"
      }
    },
    {
      "cell_type": "markdown",
      "source": [
        "**Q.5 What Is The Return Keyword Used For In Python?** \n",
        "The purpose of a function is to receive the inputs and return some output.\n",
        "The return is a Python statement which we can use in a function for sending a value back to its caller."
      ],
      "metadata": {
        "id": "6mIPG7oTKsQc"
      }
    },
    {
      "cell_type": "markdown",
      "source": [
        "Q.6 What is **args and * **kwargs?:\n",
        "*args is used when the programmer is not sure about how many arguments are going to be passed to a function, or if the programmer is expecting a list or a tuple as argument to the function.\n",
        " \n",
        "**kwargs is used when a dictionary (keyword arguments) is expected as an argument to the function."
      ],
      "metadata": {
        "id": "FGUqJDPVK3SF"
      }
    }
  ]
}