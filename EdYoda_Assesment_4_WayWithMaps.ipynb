{
  "nbformat": 4,
  "nbformat_minor": 0,
  "metadata": {
    "colab": {
      "provenance": [],
      "authorship_tag": "ABX9TyOmapd5yOaHS2KoEMNb7NXr",
      "include_colab_link": true
    },
    "kernelspec": {
      "name": "python3",
      "display_name": "Python 3"
    },
    "language_info": {
      "name": "python"
    }
  },
  "cells": [
    {
      "cell_type": "markdown",
      "metadata": {
        "id": "view-in-github",
        "colab_type": "text"
      },
      "source": [
        "<a href=\"https://colab.research.google.com/github/imran8583/EdYoda-Programme/blob/main/EdYoda_Assesment_4_WayWithMaps.ipynb\" target=\"_parent\"><img src=\"https://colab.research.google.com/assets/colab-badge.svg\" alt=\"Open In Colab\"/></a>"
      ]
    },
    {
      "cell_type": "code",
      "execution_count": null,
      "metadata": {
        "id": "KPCdCq6ohibr"
      },
      "outputs": [],
      "source": [
        "# Find the way with Maps:\n",
        "\n",
        "# Write a Python program to triple all numbers of a given list of integers.\n",
        "# Use Python map.\n"
      ]
    },
    {
      "cell_type": "code",
      "source": [
        "# sample_list: [1, 2, 3, 4, 5, 6, 7]\n",
        "\n",
        "# Triple of list numbers:\n",
        "# [3, 6, 9, 12, 15, 18, 21]"
      ],
      "metadata": {
        "id": "4hvim2PshzPT"
      },
      "execution_count": null,
      "outputs": []
    },
    {
      "cell_type": "code",
      "source": [],
      "metadata": {
        "id": "ifmVOmTRloXG"
      },
      "execution_count": null,
      "outputs": []
    },
    {
      "cell_type": "code",
      "source": [
        "# With map and lambda function:\n",
        "\n",
        "sample_list = [1, 2, 3, 4, 5, 6, 7]\n",
        "\n",
        "result = list(map(lambda x: x * 3, sample_list))\n",
        "\n",
        "print(result)"
      ],
      "metadata": {
        "colab": {
          "base_uri": "https://localhost:8080/"
        },
        "id": "h6GXGhPbhzVa",
        "outputId": "cfe466c0-7857-454c-b532-8350af9262e5"
      },
      "execution_count": 2,
      "outputs": [
        {
          "output_type": "stream",
          "name": "stdout",
          "text": [
            "[3, 6, 9, 12, 15, 18, 21]\n"
          ]
        }
      ]
    },
    {
      "cell_type": "code",
      "source": [],
      "metadata": {
        "id": "RODiA0D6lpd8"
      },
      "execution_count": null,
      "outputs": []
    },
    {
      "cell_type": "code",
      "source": [
        "# With map and normal function:\n",
        "\n",
        "sample_list = [3, 5, 7, 8, 9, 6, 2]\n",
        "\n",
        "def triple_of_list(num):\n",
        "    return (num + num + num)\n",
        "\n",
        "output = list(map(triple_of_list, sample_list))\n",
        "\n",
        "print(output)"
      ],
      "metadata": {
        "colab": {
          "base_uri": "https://localhost:8080/"
        },
        "id": "Af8OBYyviLcP",
        "outputId": "955ed510-7324-4193-83d9-e0a7bbb516ab"
      },
      "execution_count": 7,
      "outputs": [
        {
          "output_type": "stream",
          "name": "stdout",
          "text": [
            "[9, 15, 21, 24, 27, 18, 6]\n"
          ]
        }
      ]
    }
  ]
}