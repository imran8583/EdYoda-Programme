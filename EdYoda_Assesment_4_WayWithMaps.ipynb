{
  "nbformat": 4,
  "nbformat_minor": 0,
  "metadata": {
    "colab": {
      "provenance": [],
      "authorship_tag": "ABX9TyMK+PQrxNPIhoGpxh677S4R",
      "include_colab_link": true
    },
    "kernelspec": {
      "name": "python3",
      "display_name": "Python 3"
    },
    "language_info": {
      "name": "python"
    }
  },
  "cells": [
    {
      "cell_type": "markdown",
      "metadata": {
        "id": "view-in-github",
        "colab_type": "text"
      },
      "source": [
        "<a href=\"https://colab.research.google.com/github/imran8583/EdYoda-Programme/blob/main/EdYoda_Assesment_4_WayWithMaps.ipynb\" target=\"_parent\"><img src=\"https://colab.research.google.com/assets/colab-badge.svg\" alt=\"Open In Colab\"/></a>"
      ]
    },
    {
      "cell_type": "code",
      "execution_count": null,
      "metadata": {
        "id": "KPCdCq6ohibr"
      },
      "outputs": [],
      "source": [
        "# Find the way with Maps:\n",
        "\n",
        "# Write a Python program to triple all numbers of a given list of integers.\n",
        "# Use Python map.\n"
      ]
    },
    {
      "cell_type": "code",
      "source": [
        "# sample_list: [1, 2, 3, 4, 5, 6, 7]\n",
        "\n",
        "# Triple of list numbers:\n",
        "# [3, 6, 9, 12, 15, 18, 21]"
      ],
      "metadata": {
        "id": "4hvim2PshzPT"
      },
      "execution_count": null,
      "outputs": []
    },
    {
      "cell_type": "code",
      "source": [],
      "metadata": {
        "id": "nwfBzlYW65Ja"
      },
      "execution_count": null,
      "outputs": []
    },
    {
      "cell_type": "code",
      "source": [
        "# With map and lambda function:\n",
        "\n",
        "sample_list = [1, 2, 3, 4, 5, 6, 7]\n",
        "\n",
        "result = list(map(lambda x: x * 3, sample_list))\n",
        "\n",
        "print(result)"
      ],
      "metadata": {
        "colab": {
          "base_uri": "https://localhost:8080/"
        },
        "id": "h6GXGhPbhzVa",
        "outputId": "ace4c4bf-7579-4d02-bd8e-bdf39e09557c"
      },
      "execution_count": 33,
      "outputs": [
        {
          "output_type": "stream",
          "name": "stdout",
          "text": [
            "[3, 6, 9, 12, 15, 18, 21]\n"
          ]
        }
      ]
    },
    {
      "cell_type": "code",
      "source": [],
      "metadata": {
        "id": "RODiA0D6lpd8"
      },
      "execution_count": null,
      "outputs": []
    },
    {
      "cell_type": "code",
      "source": [
        "# With map and normal function:\n",
        "\n",
        "sample_list = [3, 5, 7, 8, 9, 6, 2]\n",
        "\n",
        "def triple_of_list(num):\n",
        "    return (num + num + num)\n",
        "\n",
        "output = list(map(triple_of_list, sample_list))\n",
        "\n",
        "print(output)"
      ],
      "metadata": {
        "colab": {
          "base_uri": "https://localhost:8080/"
        },
        "id": "Af8OBYyviLcP",
        "outputId": "8c0e6124-6e05-46e3-a28d-d6e086530b42"
      },
      "execution_count": 34,
      "outputs": [
        {
          "output_type": "stream",
          "name": "stdout",
          "text": [
            "[9, 15, 21, 24, 27, 18, 6]\n"
          ]
        }
      ]
    },
    {
      "cell_type": "code",
      "source": [],
      "metadata": {
        "id": "AoAapXVk817q"
      },
      "execution_count": null,
      "outputs": []
    },
    {
      "cell_type": "code",
      "source": [
        "# With map and normal function:\n",
        "\n",
        "# User input function (below cell)\n",
        "sample_list = num_list()\n",
        "\n",
        "result = map(lambda x: x * 3, sample_list)\n",
        "\n",
        "print(list(result))"
      ],
      "metadata": {
        "id": "ifmVOmTRloXG",
        "colab": {
          "base_uri": "https://localhost:8080/"
        },
        "outputId": "e970a5bb-286f-4a63-d42b-7af0f910a67e"
      },
      "execution_count": 41,
      "outputs": [
        {
          "output_type": "stream",
          "name": "stdout",
          "text": [
            "Enter elements of a list separated by commas: 1,2,3,4,5,6,7\n",
            "[3, 6, 9, 12, 15, 18, 21]\n"
          ]
        }
      ]
    },
    {
      "cell_type": "code",
      "source": [
        "# function to take input list from user & convert list values into intergers.\n",
        "\n",
        "def num_list():\n",
        "\n",
        "    input_lst = input('Enter elements of a list separated by commas: ')\n",
        "    user_list = input_lst.split(\",\")\n",
        "\n",
        "    k = [ int(i) for i in user_list ]\n",
        "\n",
        "    return k\n"
      ],
      "metadata": {
        "id": "il5kaCUB64_g"
      },
      "execution_count": 37,
      "outputs": []
    }
  ]
}