{
  "nbformat": 4,
  "nbformat_minor": 0,
  "metadata": {
    "colab": {
      "provenance": [],
      "authorship_tag": "ABX9TyN2kAs2uJvy0ijOqSQVXSxy",
      "include_colab_link": true
    },
    "kernelspec": {
      "name": "python3",
      "display_name": "Python 3"
    },
    "language_info": {
      "name": "python"
    }
  },
  "cells": [
    {
      "cell_type": "markdown",
      "metadata": {
        "id": "view-in-github",
        "colab_type": "text"
      },
      "source": [
        "<a href=\"https://colab.research.google.com/github/imran8583/EdYoda-Programme/blob/main/EdYoda_Assesment_4_WayWithMaps.ipynb\" target=\"_parent\"><img src=\"https://colab.research.google.com/assets/colab-badge.svg\" alt=\"Open In Colab\"/></a>"
      ]
    },
    {
      "cell_type": "code",
      "execution_count": null,
      "metadata": {
        "id": "KPCdCq6ohibr"
      },
      "outputs": [],
      "source": [
        "# Find the way with Maps:\n",
        "\n",
        "# Write a Python program to triple all numbers of a given list of integers.\n",
        "# Use Python map.\n"
      ]
    },
    {
      "cell_type": "code",
      "source": [
        "# sample_list: [1, 2, 3, 4, 5, 6, 7]\n",
        "\n",
        "# Triple of list numbers:\n",
        "# [3, 6, 9, 12, 15, 18, 21]"
      ],
      "metadata": {
        "id": "4hvim2PshzPT"
      },
      "execution_count": null,
      "outputs": []
    },
    {
      "cell_type": "code",
      "source": [],
      "metadata": {
        "id": "ifmVOmTRloXG"
      },
      "execution_count": null,
      "outputs": []
    },
    {
      "cell_type": "code",
      "source": [
        "# With map and lambda function:\n",
        "\n",
        "sample_list = [1, 2, 3, 4, 5, 6, 7]\n",
        "\n",
        "list(map(lambda x: x * 3, sample_list))"
      ],
      "metadata": {
        "colab": {
          "base_uri": "https://localhost:8080/"
        },
        "id": "h6GXGhPbhzVa",
        "outputId": "e33ee072-da89-4c56-c1e2-dd506f88787f"
      },
      "execution_count": null,
      "outputs": [
        {
          "output_type": "execute_result",
          "data": {
            "text/plain": [
              "[3, 6, 9, 12, 15, 18, 21]"
            ]
          },
          "metadata": {},
          "execution_count": 3
        }
      ]
    },
    {
      "cell_type": "code",
      "source": [],
      "metadata": {
        "id": "RODiA0D6lpd8"
      },
      "execution_count": null,
      "outputs": []
    },
    {
      "cell_type": "code",
      "source": [
        "# With map and normal function:\n",
        "\n",
        "sample_list = [1, 2, 3, 4, 5, 6, 7]\n",
        "\n",
        "def triple_of_list(num):\n",
        "    return num * 3\n",
        "\n",
        "tuple(map(triple_of_list, sample_list))\n"
      ],
      "metadata": {
        "colab": {
          "base_uri": "https://localhost:8080/"
        },
        "id": "Af8OBYyviLcP",
        "outputId": "a5d16213-b730-4d1d-b3ee-2fce13123008"
      },
      "execution_count": null,
      "outputs": [
        {
          "output_type": "execute_result",
          "data": {
            "text/plain": [
              "(3, 6, 9, 12, 15, 18, 21)"
            ]
          },
          "metadata": {},
          "execution_count": 17
        }
      ]
    }
  ]
}