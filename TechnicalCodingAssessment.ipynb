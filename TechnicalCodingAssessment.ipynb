{
  "nbformat": 4,
  "nbformat_minor": 0,
  "metadata": {
    "colab": {
      "provenance": [],
      "authorship_tag": "ABX9TyNUznrUIvdI1+GyCxPfrRIA"
    },
    "kernelspec": {
      "name": "python3",
      "display_name": "Python 3"
    },
    "language_info": {
      "name": "python"
    }
  },
  "cells": [
    {
      "cell_type": "markdown",
      "source": [
        "# **Problem Statement - 1 (Python)**"
      ],
      "metadata": {
        "id": "lvK5V7BhF_AW"
      }
    },
    {
      "cell_type": "code",
      "execution_count": null,
      "metadata": {
        "id": "LRmCRpXCD49Z"
      },
      "outputs": [],
      "source": [
        "# You will have a number of elements and in the next n lines element of a list.\n",
        "# You have to create a list from the given strings. You have to sort the list based on 2nd last character of a string.\n",
        "\n",
        "# For example: given list = ['great','hello','hiyo','abc'] so your output_dictionary\n",
        "# should be ['great', 'abc', 'hello','hiyo']\n",
        "\n",
        "# Input Format:\n",
        "# At first-line it will have an integer (number of elements inside a list).\n",
        "# In the second line, it will have a string.\n",
        "\n",
        "# Output Format:\n",
        "# A single line containing a sorted list."
      ]
    },
    {
      "cell_type": "code",
      "source": [
        "n = int(input())\n",
        "our_list = []\n",
        "\n",
        "for i in range(n):\n",
        "    our_list.append(input())\n",
        "\n",
        "print(f\"Before Sorted: {our_list}\")\n",
        "\n",
        "our_list.sort(key=lambda x: x[-2])\n",
        "\n",
        "print(f\"After Sorted: {our_list}\")\n",
        "\n",
        "# Sort function syntax: list.sort(reverse=True|False, key=myFunc)\n",
        "# key function expects a function with one parameter, so we used lambada function with second last\n",
        "# character of a string as asked.\n"
      ],
      "metadata": {
        "colab": {
          "base_uri": "https://localhost:8080/"
        },
        "id": "cfsM5cYt8EcB",
        "outputId": "b20f7bf9-2f96-4837-fe33-2ef9a2c6b3ae"
      },
      "execution_count": null,
      "outputs": [
        {
          "output_type": "stream",
          "name": "stdout",
          "text": [
            "4\n",
            "great\n",
            "hello\n",
            "hiyo\n",
            "abc\n",
            "Before Sorted: ['great', 'hello', 'hiyo', 'abc']\n",
            "After Sorted: ['great', 'abc', 'hello', 'hiyo']\n"
          ]
        }
      ]
    },
    {
      "cell_type": "code",
      "source": [],
      "metadata": {
        "id": "e40Brbcr_Rq3"
      },
      "execution_count": null,
      "outputs": []
    },
    {
      "cell_type": "markdown",
      "source": [
        "# **Problem Statement - 2 (Python)**"
      ],
      "metadata": {
        "id": "04PUEVrQGFOU"
      }
    },
    {
      "cell_type": "code",
      "source": [
        "# Your task is to complete the validate_triangle and validate_rectangle functions for the classes.\n",
        "# Hint for validating is given in the comments of the code.\n",
        "# Also you will have to print the following after validation in respective functions:\n",
        "\n",
        "# 1.Invalid Triangle: If the triangle sum property of sides is not valid(More hint in the comments of code)\n",
        "# 2.Valid Triangle:If the triangle sum property of sides is valid.\n",
        "# 3.Valid Rectangle:If 2 side pairs are same and they are input in correct order like l,b,l,b\n",
        "# 4.Invalid Rectangle: If Not Valid rectangle as stated above.\n",
        "\n",
        "# Input Format:\n",
        "# The side length of triangle followed by for rectangle in the next line in order.\n",
        "\n",
        "# Output Format:\n",
        "# since object are created in order, so first validate info about triangle will come and than rectangle.\n",
        "\n",
        "# Sample Input 0:\n",
        "# 3 4 5\n",
        "# 2 4 2 4\n",
        "\n",
        "# Sample Output 0:\n",
        "# Valid Triangle\n",
        "# Valid Rectangle"
      ],
      "metadata": {
        "id": "htoTDlFbEnRU"
      },
      "execution_count": null,
      "outputs": []
    },
    {
      "cell_type": "code",
      "source": [
        "class Shapes:\n",
        "    def validate_triangle(self, a, b, c):\n",
        "        self.a = a\n",
        "        self.b = b\n",
        "        self.c = c\n",
        "\n",
        "        # Triangle will have 3 sides namely a,b,c in this case\n",
        "        # If the sum of two sides of a triangle is greater than the 3rd side then that is a Valid triangle\n",
        "        # If the sum of two sides of a triangle is lesser than the 3rd side then that is a Invalid triangle\n",
        "\n",
        "        if a + b > c and a + c > b and c + b > a:\n",
        "            print(\"Valid Triangle\")\n",
        "        else:\n",
        "            print(\"Invalid Triangle\")\n",
        "\n",
        "    def validate_rectangle(self, l1, b1, l2, b2):\n",
        "        self.l1 = l1\n",
        "        self.b1 = b1\n",
        "        self.l2 = l2\n",
        "        self.b2 = b2\n",
        "\n",
        "        # Rectangle will have 4 sides l1, b1, l2, b2 which is two equal lengths & two equal breadths\n",
        "        # If the two lemgths & two breadths of a rectangle is equal then that is a valid rectangle\n",
        "        # If the lengths or breadths are not equla then it is not a valid rectangle.\n",
        "\n",
        "        if l1 == l2 and b1 == b2:\n",
        "            print(\"Valid Rectangle\")\n",
        "        else:\n",
        "            print(\"Invalid Rectangle\")\n"
      ],
      "metadata": {
        "id": "DxMmi4usIUbM"
      },
      "execution_count": 5,
      "outputs": []
    },
    {
      "cell_type": "code",
      "source": [
        "a = int(input(\"Enter value of 1st side of the triangle: \"))\n",
        "b = int(input(\"Enter value of 2nd side of the triangle: \"))\n",
        "c = int(input(\"Enter value of 3rd side of the triangle: \"))\n",
        "triangle = Shapes()\n",
        "triangle.validate_triangle(a,b,c)\n",
        "\n",
        "print(\"-\"*45)\n",
        "\n",
        "rectangle = Shapes()\n",
        "l1 = int(input(\"Enter value of 1st length of the rectangle: \"))\n",
        "b1 = int(input(\"Enter value of lst breadth of the rectangle: \"))\n",
        "l2 = int(input(\"Enter value of 2nd length of the rectangle: \"))\n",
        "b2 = int(input(\"Enter value of 2nd breadth of the rectangle: \"))\n",
        "rectangle.validate_rectangle(l1,b1,l2,b2)\n"
      ],
      "metadata": {
        "colab": {
          "base_uri": "https://localhost:8080/"
        },
        "id": "LhqDygNCLKKj",
        "outputId": "b5400ff2-f411-4e15-f6d3-a04f1c44c51a"
      },
      "execution_count": 7,
      "outputs": [
        {
          "output_type": "stream",
          "name": "stdout",
          "text": [
            "Enter value of 1st side of the triangle: 3\n",
            "Enter value of 2nd side of the triangle: 4\n",
            "Enter value of 3rd side of the triangle: 5\n",
            "Valid Triangle\n",
            "---------------------------------------------\n",
            "Enter value of 1st length of the rectangle: 3\n",
            "Enter value of lst breadth of the rectangle: 4\n",
            "Enter value of 2nd length of the rectangle: 3\n",
            "Enter value of 2nd breadth of the rectangle: 4\n",
            "Valid Rectangle\n"
          ]
        }
      ]
    },
    {
      "cell_type": "code",
      "source": [
        "a = int(input(\"Enter value of 1st side of the triangle: \"))\n",
        "b = int(input(\"Enter value of 2nd side of the triangle: \"))\n",
        "c = int(input(\"Enter value of 3rd side of the triangle: \"))\n",
        "triangle = Shapes()\n",
        "triangle.validate_triangle(a,b,c)\n",
        "\n",
        "print(\"-\"*45)\n",
        "\n",
        "rectangle = Shapes()\n",
        "l1 = int(input(\"Enter value of 1st length of the rectangle: \"))\n",
        "b1 = int(input(\"Enter value of lst breadth of the rectangle: \"))\n",
        "l2 = int(input(\"Enter value of 2nd length of the rectangle: \"))\n",
        "b2 = int(input(\"Enter value of 2nd breadth of the rectangle: \"))\n",
        "rectangle.validate_rectangle(l1,b1,l2,b2)\n"
      ],
      "metadata": {
        "colab": {
          "base_uri": "https://localhost:8080/"
        },
        "id": "Rbk8ctoOIZjK",
        "outputId": "b7ccc43f-a95d-4bcf-dd9a-d408099e35e5"
      },
      "execution_count": 8,
      "outputs": [
        {
          "output_type": "stream",
          "name": "stdout",
          "text": [
            "Enter value of 1st side of the triangle: 5\n",
            "Enter value of 2nd side of the triangle: 1\n",
            "Enter value of 3rd side of the triangle: 16\n",
            "Invalid Triangle\n",
            "---------------------------------------------\n",
            "Enter value of 1st length of the rectangle: 3\n",
            "Enter value of lst breadth of the rectangle: 6\n",
            "Enter value of 2nd length of the rectangle: 4\n",
            "Enter value of 2nd breadth of the rectangle: 6\n",
            "Invalid Rectangle\n"
          ]
        }
      ]
    }
  ]
}