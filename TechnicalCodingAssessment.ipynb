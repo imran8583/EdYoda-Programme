{
  "nbformat": 4,
  "nbformat_minor": 0,
  "metadata": {
    "colab": {
      "provenance": [],
      "authorship_tag": "ABX9TyPqm+HvghIYa/n4VrKDBBdg"
    },
    "kernelspec": {
      "name": "python3",
      "display_name": "Python 3"
    },
    "language_info": {
      "name": "python"
    }
  },
  "cells": [
    {
      "cell_type": "markdown",
      "source": [
        "# **Problem Statement - 1 (Python)**"
      ],
      "metadata": {
        "id": "lvK5V7BhF_AW"
      }
    },
    {
      "cell_type": "code",
      "execution_count": 1,
      "metadata": {
        "id": "LRmCRpXCD49Z"
      },
      "outputs": [],
      "source": [
        "# You will have a number of elements and in the next n lines element of a list.\n",
        "# You have to create a list from the given strings. You have to sort the list based on 2nd last character of a string.\n",
        "\n",
        "# For example: given list = ['great','hello','hiyo','abc'] so your output_dictionary\n",
        "# should be ['great', 'abc', 'hello','hiyo']\n",
        "\n",
        "# Input Format:\n",
        "# At first-line it will have an integer (number of elements inside a list).\n",
        "# In the second line, it will have a string.\n",
        "\n",
        "# Output Format:\n",
        "# A single line containing a sorted list."
      ]
    },
    {
      "cell_type": "code",
      "source": [
        "n = int(input())\n",
        "our_list = []\n",
        "\n",
        "for i in range(n):\n",
        "    our_list.append(input())\n",
        "\n",
        "print(f\"Before Sorted: {our_list}\")\n",
        "\n",
        "our_list.sort(key=lambda x: x[-2])\n",
        "\n",
        "print(f\"After Sorted: {our_list}\")\n",
        "\n",
        "# Sort function syntax: list.sort(reverse=True|False, key=myFunc)\n",
        "# key function expects a function with one parameter, so we used lambada function with second last\n",
        "# character of a string as asked.\n"
      ],
      "metadata": {
        "colab": {
          "base_uri": "https://localhost:8080/"
        },
        "id": "cfsM5cYt8EcB",
        "outputId": "b20f7bf9-2f96-4837-fe33-2ef9a2c6b3ae"
      },
      "execution_count": 19,
      "outputs": [
        {
          "output_type": "stream",
          "name": "stdout",
          "text": [
            "4\n",
            "great\n",
            "hello\n",
            "hiyo\n",
            "abc\n",
            "Before Sorted: ['great', 'hello', 'hiyo', 'abc']\n",
            "After Sorted: ['great', 'abc', 'hello', 'hiyo']\n"
          ]
        }
      ]
    },
    {
      "cell_type": "code",
      "source": [],
      "metadata": {
        "id": "e40Brbcr_Rq3"
      },
      "execution_count": 17,
      "outputs": []
    },
    {
      "cell_type": "markdown",
      "source": [
        "# **Problem Statement - 2 (Python)**"
      ],
      "metadata": {
        "id": "04PUEVrQGFOU"
      }
    },
    {
      "cell_type": "code",
      "source": [
        "# Your task is to complete the validate_triangle and validate_rectangle functions for the classes.\n",
        "# Hint for validating is given in the comments of the code.\n",
        "# Also you will have to print the following after validation in respective functions:\n",
        "\n",
        "# 1.Invalid Triangle: If the triangle sum property of sides is not valid(More hint in the comments of code)\n",
        "# 2.Valid Triangle:If the triangle sum property of sides is valid.\n",
        "# 3.Valid Rectangle:If 2 side pairs are same and they are input in correct order like l,b,l,b\n",
        "# 4.Invalid Rectangle: If Not Valid rectangle as stated above.\n",
        "\n",
        "# Input Format:\n",
        "# The side length of triangle followed by for rectangle in the next line in order.\n",
        "\n",
        "# Output Format:\n",
        "# since object are created in order, so first validate info about triangle will come and than rectangle.\n",
        "\n",
        "# Sample Input 0:\n",
        "# 3 4 5\n",
        "# 2 4 2 4\n",
        "\n",
        "# Sample Output 0:\n",
        "# Valid Triangle\n",
        "# Valid Rectangle"
      ],
      "metadata": {
        "id": "htoTDlFbEnRU"
      },
      "execution_count": 17,
      "outputs": []
    },
    {
      "cell_type": "code",
      "source": [
        "class Shapes:\n",
        "    def validate_triangle(self, a, b, c):\n",
        "        self.a = a\n",
        "        self.b = b\n",
        "        self.c = c\n",
        "\n",
        "        # Triangle will have 3 sides namely a,b,c in this case\n",
        "        # If the sum of two sides of a triangle is greater than the 3rd side then that is a Valid triangle\n",
        "        # If the sum of two sides of a triangle is lesser than the 3rd side then that is a Invalid triangle\n",
        "\n",
        "        if a + b > c and a + c > b and c + b > a:\n",
        "            print(\"Valid Triangle\")\n",
        "        else:\n",
        "            print(\"Invalid Triangle\")\n",
        "\n",
        "    def validate_rectangle(self, l1, b1, l2, b2):\n",
        "        self.l1 = l1\n",
        "        self.b1 = b1\n",
        "        self.l2 = l2\n",
        "        self.b2 = b2\n",
        "\n",
        "        # Rectangle will have 4 sides l1, b1, l2, b2 which is two equal lengths & two equal breadths\n",
        "        # If the two lemgths & two breadths of a rectangle is equal then that is a valid rectangle\n",
        "        # If the lengths or breadths are not equla then it is not a valid rectangle.\n",
        "\n",
        "        if l1 == l2 and b1 == b2:\n",
        "            print(\"Valid Rectangle\")\n",
        "        else:\n",
        "            print(\"Invalid Rectangle\")\n"
      ],
      "metadata": {
        "id": "DxMmi4usIUbM"
      },
      "execution_count": 38,
      "outputs": []
    },
    {
      "cell_type": "code",
      "source": [
        "triangle = Shapes()\n",
        "rectangle = Shapes()\n",
        "\n",
        "triangle.validate_triangle(3,4,5)\n",
        "rectangle.validate_rectangle(2,4,2,4)\n"
      ],
      "metadata": {
        "colab": {
          "base_uri": "https://localhost:8080/"
        },
        "id": "LhqDygNCLKKj",
        "outputId": "8189c3f6-4969-4854-e16d-cd2d527486b6"
      },
      "execution_count": 42,
      "outputs": [
        {
          "output_type": "stream",
          "name": "stdout",
          "text": [
            "Valid Triangle\n",
            "Valid Rectangle\n"
          ]
        }
      ]
    },
    {
      "cell_type": "code",
      "source": [
        "triangle.validate_triangle(3,4,15)\n",
        "rectangle.validate_rectangle(2,4,2,1)"
      ],
      "metadata": {
        "colab": {
          "base_uri": "https://localhost:8080/"
        },
        "id": "Rbk8ctoOIZjK",
        "outputId": "690c77c2-9b7e-4a7c-a788-1fb7cc3e4946"
      },
      "execution_count": 43,
      "outputs": [
        {
          "output_type": "stream",
          "name": "stdout",
          "text": [
            "Invalid Triangle\n",
            "Invalid Rectangle\n"
          ]
        }
      ]
    }
  ]
}