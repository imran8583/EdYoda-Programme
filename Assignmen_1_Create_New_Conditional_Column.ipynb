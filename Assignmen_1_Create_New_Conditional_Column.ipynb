{
  "nbformat": 4,
  "nbformat_minor": 0,
  "metadata": {
    "colab": {
      "provenance": [],
      "authorship_tag": "ABX9TyPh3YKcA8Bup92XQxkdKTnW"
    },
    "kernelspec": {
      "name": "python3",
      "display_name": "Python 3"
    },
    "language_info": {
      "name": "python"
    }
  },
  "cells": [
    {
      "cell_type": "code",
      "execution_count": 1,
      "metadata": {
        "colab": {
          "base_uri": "https://localhost:8080/"
        },
        "id": "yxcUCpPrmcCv",
        "outputId": "56f232d3-aae6-4481-94e2-e01af7b25cde"
      },
      "outputs": [
        {
          "output_type": "stream",
          "name": "stdout",
          "text": [
            "        ship_mode  sales  profit  surcharge  total_cost\n",
            "0        Same Day    100      10       0.20       108.0\n",
            "1     First Class    200      20       0.10       198.0\n",
            "2  Standard Class    300      30       0.05       283.5\n",
            "3           Other    400      40       0.00       360.0\n"
          ]
        }
      ],
      "source": [
        "import pandas as pd\n",
        "import numpy as np\n",
        "\n",
        "df = pd.DataFrame({'ship_mode': ['Same Day', 'First Class', 'Standard Class', 'Other'],\n",
        "                   'sales': [100, 200, 300, 400],\n",
        "                   'profit': [10, 20, 30, 40]})\n",
        "\n",
        "df['surcharge'] = np.where(df['ship_mode'] == 'Same Day', 0.2,\n",
        "                         np.where(df['ship_mode'] == 'First Class', 0.1,\n",
        "                                  np.where(df['ship_mode'] == 'Standard Class', 0.05, 0)))\n",
        "\n",
        "df['total_cost'] = (df['sales'] - df['profit']) * (1 + df['surcharge'])\n",
        "\n",
        "print(df)\n"
      ]
    }
  ]
}