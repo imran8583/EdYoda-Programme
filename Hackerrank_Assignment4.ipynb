{
  "nbformat": 4,
  "nbformat_minor": 0,
  "metadata": {
    "colab": {
      "provenance": [],
      "authorship_tag": "ABX9TyPJpWKYqenNyK8OFO8ygqZn"
    },
    "kernelspec": {
      "name": "python3",
      "display_name": "Python 3"
    },
    "language_info": {
      "name": "python"
    }
  },
  "cells": [
    {
      "cell_type": "code",
      "execution_count": 1,
      "metadata": {
        "colab": {
          "base_uri": "https://localhost:8080/"
        },
        "id": "ch-jQZPiar31",
        "outputId": "eed6db4b-1213-4252-d54c-d1898039849c"
      },
      "outputs": [
        {
          "output_type": "stream",
          "name": "stdout",
          "text": [
            "2 1\n",
            "5 6\n",
            "7.00+7.00i\n",
            "-3.00-5.00i\n",
            "4.00+17.00i\n",
            "0.26-0.11i\n",
            "2.24+0.00i\n",
            "7.81+0.00i\n"
          ]
        }
      ],
      "source": [
        "# Classes: Dealing with Complex Numbers\n",
        "\n",
        "import math\n",
        "\n",
        "# Defining the class\n",
        "class Complex(object):\n",
        "    def __init__(self, real, imaginary):\n",
        "        self.real = real\n",
        "        self.imaginary = imaginary\n",
        "        \n",
        "    def __add__(self, no):\n",
        "        return Complex(self.real + no.real , self.imaginary + no.imaginary)\n",
        "        \n",
        "    def __sub__(self, no):\n",
        "        return Complex(self.real - no.real , self.imaginary - no.imaginary)       \n",
        "        \n",
        "    def __mul__(self, no):\n",
        "        prod = complex(self.real , self.imaginary)*complex(no.real , no.imaginary)\n",
        "        return Complex(prod.real , prod.imag)\n",
        "\n",
        "    def __truediv__(self, no):\n",
        "        div = complex(self.real , self.imaginary)/complex(no.real , no.imaginary)\n",
        "        return Complex(div.real , div.imag)\n",
        "\n",
        "\n",
        "    def mod(self):\n",
        "        m = math.sqrt(self.real**2 + self.imaginary**2)\n",
        "        return Complex(m,0)\n",
        "\n",
        "    def __str__(self):\n",
        "        if self.imaginary == 0:\n",
        "            result = \"%.2f+0.00i\" % (self.real)\n",
        "        elif self.real == 0:\n",
        "            if self.imaginary >= 0:\n",
        "                result = \"0.00+%.2fi\" % (self.imaginary)\n",
        "            else:\n",
        "                result = \"0.00-%.2fi\" % (abs(self.imaginary))\n",
        "        elif self.imaginary > 0:\n",
        "            result = \"%.2f+%.2fi\" % (self.real, self.imaginary)\n",
        "        else:\n",
        "            result = \"%.2f-%.2fi\" % (self.real, abs(self.imaginary))\n",
        "        return result\n",
        "\n",
        "if __name__ == '__main__':\n",
        "    c = map(float, input().split())\n",
        "    d = map(float, input().split())\n",
        "    x = Complex(*c)\n",
        "    y = Complex(*d)\n",
        "    print(*map(str, [x+y, x-y, x*y, x/y, x.mod(), y.mod()]), sep='\\n')"
      ]
    },
    {
      "cell_type": "code",
      "source": [
        "# Class 2 - Find the Torsional Angle\n",
        "\n",
        "\n",
        "import math\n",
        "\n",
        "class Points(object):\n",
        "    def __init__(self, x, y, z):\n",
        "        self.x = x\n",
        "        self.y = y\n",
        "        self.z = z\n",
        "\n",
        "    def __sub__(self, no):\n",
        "        return  Points((self.x-no.x), (self.y-no.y), (self.z-no.z))\n",
        "\n",
        "    def dot(self, no):\n",
        "        return (self.x*no.x)+(self.y*no.y)+(self.z*no.z)\n",
        "\n",
        "    def cross(self, no):\n",
        "        return Points((self.y*no.z-self.z*no.y), (self.z*no.x-self.x*no.z), (self.x*no.y-self.y*no.x))\n",
        "\n",
        "    def absolute(self):\n",
        "        return pow((self.x ** 2 + self.y ** 2 + self.z ** 2), 0.5)\n",
        "\n",
        "if __name__ == '__main__':\n",
        "    points = list()\n",
        "    for i in range(4):\n",
        "        a = list(map(float, input().split()))\n",
        "        points.append(a)\n",
        "\n",
        "    a, b, c, d = Points(*points[0]), Points(*points[1]), Points(*points[2]), Points(*points[3])\n",
        "    x = (b - a).cross(c - b)\n",
        "    y = (c - b).cross(d - c)\n",
        "    angle = math.acos(x.dot(y) / (x.absolute() * y.absolute()))\n",
        "\n",
        "    print(\"%.2f\" % math.degrees(angle))"
      ],
      "metadata": {
        "colab": {
          "base_uri": "https://localhost:8080/"
        },
        "id": "Ga7BX4O8bKLE",
        "outputId": "d36a43aa-1a04-443f-e533-e09c656eec69"
      },
      "execution_count": 2,
      "outputs": [
        {
          "output_type": "stream",
          "name": "stdout",
          "text": [
            "0 4 5\n",
            "1 7 6\n",
            "0 5 9\n",
            "1 7 2\n",
            "8.19\n"
          ]
        }
      ]
    }
  ]
}