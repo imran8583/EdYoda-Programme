{
  "nbformat": 4,
  "nbformat_minor": 0,
  "metadata": {
    "colab": {
      "provenance": [],
      "authorship_tag": "ABX9TyMeQjGEOUrhzE+wT8mGdDFl"
    },
    "kernelspec": {
      "name": "python3",
      "display_name": "Python 3"
    },
    "language_info": {
      "name": "python"
    }
  },
  "cells": [
    {
      "cell_type": "code",
      "execution_count": 1,
      "metadata": {
        "id": "V9JX4z60MvO1",
        "colab": {
          "base_uri": "https://localhost:8080/"
        },
        "outputId": "510decb4-fd59-4990-bedc-2f91a908a246"
      },
      "outputs": [
        {
          "output_type": "stream",
          "name": "stdout",
          "text": [
            "7\n",
            "[0, 1, 1, 8, 27, 125, 512]\n"
          ]
        }
      ],
      "source": [
        "#1. Map and Lambda Function\n",
        "\n",
        "cube = lambda x: x**3 # complete the lambda function \n",
        "\n",
        "def fibonacci(n):\n",
        "    # return a list of fibonacci numbers\n",
        "    lst = [0,1]\n",
        "    \n",
        "    for i in range(2,n):\n",
        "        lst.append(lst[i-1] + lst[i-2])\n",
        "    return(lst[0:n])\n",
        "\n",
        "if __name__ == '__main__':\n",
        "    n = int(input())\n",
        "    print(list(map(cube, fibonacci(n))))"
      ]
    },
    {
      "cell_type": "code",
      "source": [
        "# 2. List Comprehensions\n",
        "\n",
        "if __name__ == '__main__':\n",
        "    x = int(input())\n",
        "    y = int(input())\n",
        "    z = int(input())\n",
        "    n = int(input())\n",
        "    # result = []\n",
        "\n",
        "    # for i in range(x+1):\n",
        "    #     for j in range(y+1):\n",
        "    #         for k in range(z+1):\n",
        "    #             if (i+j+k) != n:\n",
        "    #                 result.append([i,j,k])\n",
        "\n",
        "    # print(result)\n",
        "\n",
        "    result = [[i,j,k] for i in range(x+1) for j in range(y+1) for k in range(z+1) if (i+j+k) != n ]\n",
        "    print(result)"
      ],
      "metadata": {
        "colab": {
          "base_uri": "https://localhost:8080/"
        },
        "id": "HTYYQsD6duOQ",
        "outputId": "2fc6c62e-bf38-433b-bae4-9af0b87d9c85"
      },
      "execution_count": 7,
      "outputs": [
        {
          "output_type": "stream",
          "name": "stdout",
          "text": [
            "1\n",
            "1\n",
            "1\n",
            "2\n",
            "[[0, 0, 0], [0, 0, 1], [0, 1, 0], [1, 0, 0], [1, 1, 1]]\n"
          ]
        }
      ]
    },
    {
      "cell_type": "code",
      "source": [
        "# 3. Matching Specific String\n",
        "\n",
        "Regex_Pattern = r'hackerrank'\t# Do not delete 'r'.\n",
        "\n",
        "import re\n",
        "\n",
        "Test_String = input()\n",
        "\n",
        "match = re.findall(Regex_Pattern, Test_String)\n",
        "\n",
        "print(\"Number of matches :\", len(match))"
      ],
      "metadata": {
        "colab": {
          "base_uri": "https://localhost:8080/"
        },
        "id": "36HT83tChuFx",
        "outputId": "fd07654b-c4fb-44eb-809d-de64d3f43ee2"
      },
      "execution_count": 14,
      "outputs": [
        {
          "output_type": "stream",
          "name": "stdout",
          "text": [
            "The hackerrank team is on a mission to flatten the world by restructuring the DNA of every company on the planet. We rank programmers based on their coding skills, helping companies source great programmers and reduce the time to hire. As a result, we are revolutionizing the way companies discover and evaluate talented engineers. The hackerrank platform is the destination for the best engineers to hone their skills and companies to find top engineers.\n",
            "Number of matches : 2\n"
          ]
        }
      ]
    },
    {
      "cell_type": "code",
      "source": [
        "# 4. Matching Digits & Non-Digit Characters\n",
        "\n",
        "Regex_Pattern = r\"^\\d{2}.\\d{2}.\\d{4}\"\t# Do not delete 'r'.\n",
        "\n",
        "import re\n",
        "\n",
        "print(str(bool(re.search(Regex_Pattern, input()))).lower())"
      ],
      "metadata": {
        "colab": {
          "base_uri": "https://localhost:8080/"
        },
        "id": "rzA1Cbqgnv0x",
        "outputId": "3ad00476-35ae-4059-e5c6-b9238e5d5871"
      },
      "execution_count": 9,
      "outputs": [
        {
          "output_type": "stream",
          "name": "stdout",
          "text": [
            "06-11-2015\n",
            "true\n"
          ]
        }
      ]
    },
    {
      "cell_type": "code",
      "source": [
        "# 5. Matching Specific Characters\n",
        "\n",
        "Regex_Pattern = r'^[123][120][xs0][30Aa][xsu][.,]$'\t# Do not delete 'r'.\n",
        "\n",
        "import re\n",
        "\n",
        "print(str(bool(re.search(Regex_Pattern, input()))).lower())\n"
      ],
      "metadata": {
        "colab": {
          "base_uri": "https://localhost:8080/"
        },
        "id": "_Cbu5sDdr9Hi",
        "outputId": "59282635-7f79-41a9-ea87-ab962cec26a5"
      },
      "execution_count": 10,
      "outputs": [
        {
          "output_type": "stream",
          "name": "stdout",
          "text": [
            "1203x.\n",
            "true\n"
          ]
        }
      ]
    },
    {
      "cell_type": "code",
      "source": [
        "# 6. Matching Character Ranges\n",
        "\n",
        "Regex_Pattern = r'^[a-z][1-9][^a-z][^A-Z][A-Z]'\t# Do not delete 'r'.\n",
        "\n",
        "import re\n",
        "\n",
        "print(str(bool(re.search(Regex_Pattern, input()))).lower())"
      ],
      "metadata": {
        "colab": {
          "base_uri": "https://localhost:8080/"
        },
        "id": "Cj9iemEvtlcB",
        "outputId": "8ef99cc3-db7f-4375-91a3-fb46e3a05dbf"
      },
      "execution_count": 12,
      "outputs": [
        {
          "output_type": "stream",
          "name": "stdout",
          "text": [
            "h4CkR\n",
            "true\n"
          ]
        }
      ]
    },
    {
      "cell_type": "code",
      "source": [
        "# 7. Matching Start & End\n",
        "\n",
        "Regex_Pattern = r\"^\\d\\w{4}\\.$\"\t# Do not delete 'r'.\n",
        "\n",
        "import re\n",
        "\n",
        "print(str(bool(re.search(Regex_Pattern, input()))).lower())"
      ],
      "metadata": {
        "colab": {
          "base_uri": "https://localhost:8080/"
        },
        "id": "TEQTzS_AwR7U",
        "outputId": "0ce39938-6f80-4375-ba2d-7332c14eb185"
      },
      "execution_count": 15,
      "outputs": [
        {
          "output_type": "stream",
          "name": "stdout",
          "text": [
            "0qwer.\n",
            "true\n"
          ]
        }
      ]
    },
    {
      "cell_type": "code",
      "source": [],
      "metadata": {
        "id": "2zXw38ACu2Og"
      },
      "execution_count": null,
      "outputs": []
    }
  ]
}